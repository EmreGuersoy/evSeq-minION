{
 "cells": [
  {
   "cell_type": "code",
   "execution_count": 1,
   "id": "9c391ce5-99ac-4ba4-9ab9-f25907ae324b",
   "metadata": {},
   "outputs": [],
   "source": [
    "from tests.data_generation.stress_tests import run_evseq_stress_test"
   ]
  },
  {
   "cell_type": "markdown",
   "id": "f584a77c-3e5c-433e-a7be-b6ff7c61a390",
   "metadata": {},
   "source": [
    "This is for stress-testing the evSeq code by passing in random inputs with known expected output. We then check to see if the evSeq outputs match the expected."
   ]
  },
  {
   "cell_type": "code",
   "execution_count": 2,
   "id": "1acf97cf-cd0d-4967-a727-ae16c158a3a9",
   "metadata": {
    "tags": []
   },
   "outputs": [
    {
     "name": "stdout",
     "output_type": "stream",
     "text": [
      "Working on tests for seed 5...\n",
      "All Uncoupled tests passed for seed: 5\n",
      "All Coupled tests passed for seed: 5\n",
      "\n",
      "\n"
     ]
    }
   ],
   "source": [
    "test_run = run_evseq_stress_test(True, False, \n",
    "                      keep_output = True,\n",
    "                      seed = 5)"
   ]
  },
  {
   "cell_type": "code",
   "execution_count": 4,
   "id": "924129f6-b6b4-4e58-aecd-e1f08e3e3732",
   "metadata": {},
   "outputs": [],
   "source": [
    "expected_decoupled_aa_df, expected_coupled_aa_df = test_run.build_expected_aa()"
   ]
  },
  {
   "cell_type": "code",
   "execution_count": 20,
   "id": "4ac13da4-9de6-4782-91b9-f1c924b83cd0",
   "metadata": {},
   "outputs": [
    {
     "data": {
      "text/html": [
       "<div>\n",
       "<style scoped>\n",
       "    .dataframe tbody tr th:only-of-type {\n",
       "        vertical-align: middle;\n",
       "    }\n",
       "\n",
       "    .dataframe tbody tr th {\n",
       "        vertical-align: top;\n",
       "    }\n",
       "\n",
       "    .dataframe thead th {\n",
       "        text-align: right;\n",
       "    }\n",
       "</style>\n",
       "<table border=\"1\" class=\"dataframe\">\n",
       "  <thead>\n",
       "    <tr style=\"text-align: right;\">\n",
       "      <th></th>\n",
       "      <th>IndexPlate</th>\n",
       "      <th>Plate</th>\n",
       "      <th>Well</th>\n",
       "      <th>VariantCombo</th>\n",
       "      <th>SimpleCombo</th>\n",
       "      <th>VariantsFound</th>\n",
       "      <th>AlignmentFrequency</th>\n",
       "      <th>WellSeqDepth</th>\n",
       "      <th>VariantSequence</th>\n",
       "      <th>Flags</th>\n",
       "    </tr>\n",
       "  </thead>\n",
       "  <tbody>\n",
       "    <tr>\n",
       "      <th>530</th>\n",
       "      <td>DI03</td>\n",
       "      <td>TestPlate03</td>\n",
       "      <td>E08</td>\n",
       "      <td>D2111G_A2113H_Q2117P_M2135M_Q2141L_Y2153S_S233...</td>\n",
       "      <td>GHPMLSSCF</td>\n",
       "      <td>9</td>\n",
       "      <td>0.166667</td>\n",
       "      <td>12</td>\n",
       "      <td>GWHTKIPFAQWYCCAHLLQARSAGMTYCEHLMKITPKILC*HSW*R...</td>\n",
       "      <td>NaN</td>\n",
       "    </tr>\n",
       "    <tr>\n",
       "      <th>531</th>\n",
       "      <td>DI03</td>\n",
       "      <td>TestPlate03</td>\n",
       "      <td>E08</td>\n",
       "      <td>D2111D_A2113A_Q2117Q_M2135M_Q2141Q_Y2153Y_S233...</td>\n",
       "      <td>DAQMQYSPF</td>\n",
       "      <td>9</td>\n",
       "      <td>0.416667</td>\n",
       "      <td>12</td>\n",
       "      <td>DWATKIQFAQWYCCAHLLQARSAGMTYCEHQMKITPKILC*HYW*R...</td>\n",
       "      <td>NaN</td>\n",
       "    </tr>\n",
       "    <tr>\n",
       "      <th>532</th>\n",
       "      <td>DI03</td>\n",
       "      <td>TestPlate03</td>\n",
       "      <td>E08</td>\n",
       "      <td>D2111D_A2113A_Q2117Q_M2135K_Q2141Q_Y2153Y_S233...</td>\n",
       "      <td>DAQKQYYPK</td>\n",
       "      <td>9</td>\n",
       "      <td>0.416667</td>\n",
       "      <td>12</td>\n",
       "      <td>DWATKIQFAQWYCCAHLLQARSAGKTYCEHQMKITPKILC*HYW*R...</td>\n",
       "      <td>NaN</td>\n",
       "    </tr>\n",
       "  </tbody>\n",
       "</table>\n",
       "</div>"
      ],
      "text/plain": [
       "    IndexPlate        Plate Well  \\\n",
       "530       DI03  TestPlate03  E08   \n",
       "531       DI03  TestPlate03  E08   \n",
       "532       DI03  TestPlate03  E08   \n",
       "\n",
       "                                          VariantCombo SimpleCombo  \\\n",
       "530  D2111G_A2113H_Q2117P_M2135M_Q2141L_Y2153S_S233...   GHPMLSSCF   \n",
       "531  D2111D_A2113A_Q2117Q_M2135M_Q2141Q_Y2153Y_S233...   DAQMQYSPF   \n",
       "532  D2111D_A2113A_Q2117Q_M2135K_Q2141Q_Y2153Y_S233...   DAQKQYYPK   \n",
       "\n",
       "     VariantsFound  AlignmentFrequency  WellSeqDepth  \\\n",
       "530              9            0.166667            12   \n",
       "531              9            0.416667            12   \n",
       "532              9            0.416667            12   \n",
       "\n",
       "                                       VariantSequence Flags  \n",
       "530  GWHTKIPFAQWYCCAHLLQARSAGMTYCEHLMKITPKILC*HSW*R...   NaN  \n",
       "531  DWATKIQFAQWYCCAHLLQARSAGMTYCEHQMKITPKILC*HYW*R...   NaN  \n",
       "532  DWATKIQFAQWYCCAHLLQARSAGKTYCEHQMKITPKILC*HYW*R...   NaN  "
      ]
     },
     "execution_count": 20,
     "metadata": {},
     "output_type": "execute_result"
    }
   ],
   "source": [
    "expected_coupled_aa_df.loc[(expected_coupled_aa_df.IndexPlate == \"DI03\")&(expected_coupled_aa_df.Well == \"E08\")]"
   ]
  },
  {
   "cell_type": "code",
   "execution_count": 22,
   "id": "ffe58a10-5022-4d8b-8c1d-9e6f1bee7c6d",
   "metadata": {},
   "outputs": [
    {
     "data": {
      "text/html": [
       "<div>\n",
       "<style scoped>\n",
       "    .dataframe tbody tr th:only-of-type {\n",
       "        vertical-align: middle;\n",
       "    }\n",
       "\n",
       "    .dataframe tbody tr th {\n",
       "        vertical-align: top;\n",
       "    }\n",
       "\n",
       "    .dataframe thead th {\n",
       "        text-align: right;\n",
       "    }\n",
       "</style>\n",
       "<table border=\"1\" class=\"dataframe\">\n",
       "  <thead>\n",
       "    <tr style=\"text-align: right;\">\n",
       "      <th></th>\n",
       "      <th>IndexPlate</th>\n",
       "      <th>Plate</th>\n",
       "      <th>Well</th>\n",
       "      <th>AaPosition</th>\n",
       "      <th>Aa</th>\n",
       "      <th>AlignmentFrequency</th>\n",
       "      <th>WellSeqDepth</th>\n",
       "      <th>Flags</th>\n",
       "    </tr>\n",
       "  </thead>\n",
       "  <tbody>\n",
       "    <tr>\n",
       "      <th>3383</th>\n",
       "      <td>DI03</td>\n",
       "      <td>TestPlate03</td>\n",
       "      <td>E08</td>\n",
       "      <td>2111</td>\n",
       "      <td>G</td>\n",
       "      <td>0.142857</td>\n",
       "      <td>14</td>\n",
       "      <td>Unexpected Variation</td>\n",
       "    </tr>\n",
       "    <tr>\n",
       "      <th>3384</th>\n",
       "      <td>DI03</td>\n",
       "      <td>TestPlate03</td>\n",
       "      <td>E08</td>\n",
       "      <td>2111</td>\n",
       "      <td>D</td>\n",
       "      <td>0.857143</td>\n",
       "      <td>14</td>\n",
       "      <td>Unexpected Variation</td>\n",
       "    </tr>\n",
       "    <tr>\n",
       "      <th>3385</th>\n",
       "      <td>DI03</td>\n",
       "      <td>TestPlate03</td>\n",
       "      <td>E08</td>\n",
       "      <td>2113</td>\n",
       "      <td>H</td>\n",
       "      <td>0.142857</td>\n",
       "      <td>14</td>\n",
       "      <td>Unexpected Variation</td>\n",
       "    </tr>\n",
       "    <tr>\n",
       "      <th>3386</th>\n",
       "      <td>DI03</td>\n",
       "      <td>TestPlate03</td>\n",
       "      <td>E08</td>\n",
       "      <td>2113</td>\n",
       "      <td>A</td>\n",
       "      <td>0.857143</td>\n",
       "      <td>14</td>\n",
       "      <td>Unexpected Variation</td>\n",
       "    </tr>\n",
       "    <tr>\n",
       "      <th>3387</th>\n",
       "      <td>DI03</td>\n",
       "      <td>TestPlate03</td>\n",
       "      <td>E08</td>\n",
       "      <td>2340</td>\n",
       "      <td>C</td>\n",
       "      <td>0.142857</td>\n",
       "      <td>14</td>\n",
       "      <td>Unexpected Variation</td>\n",
       "    </tr>\n",
       "    <tr>\n",
       "      <th>3388</th>\n",
       "      <td>DI03</td>\n",
       "      <td>TestPlate03</td>\n",
       "      <td>E08</td>\n",
       "      <td>2340</td>\n",
       "      <td>P</td>\n",
       "      <td>0.857143</td>\n",
       "      <td>14</td>\n",
       "      <td>Unexpected Variation</td>\n",
       "    </tr>\n",
       "    <tr>\n",
       "      <th>3389</th>\n",
       "      <td>DI03</td>\n",
       "      <td>TestPlate03</td>\n",
       "      <td>E08</td>\n",
       "      <td>2117</td>\n",
       "      <td>P</td>\n",
       "      <td>0.142857</td>\n",
       "      <td>14</td>\n",
       "      <td>Unexpected Variation</td>\n",
       "    </tr>\n",
       "    <tr>\n",
       "      <th>3390</th>\n",
       "      <td>DI03</td>\n",
       "      <td>TestPlate03</td>\n",
       "      <td>E08</td>\n",
       "      <td>2117</td>\n",
       "      <td>Q</td>\n",
       "      <td>0.857143</td>\n",
       "      <td>14</td>\n",
       "      <td>Unexpected Variation</td>\n",
       "    </tr>\n",
       "    <tr>\n",
       "      <th>3391</th>\n",
       "      <td>DI03</td>\n",
       "      <td>TestPlate03</td>\n",
       "      <td>E08</td>\n",
       "      <td>2153</td>\n",
       "      <td>S</td>\n",
       "      <td>0.142857</td>\n",
       "      <td>14</td>\n",
       "      <td>Unexpected Variation</td>\n",
       "    </tr>\n",
       "    <tr>\n",
       "      <th>3392</th>\n",
       "      <td>DI03</td>\n",
       "      <td>TestPlate03</td>\n",
       "      <td>E08</td>\n",
       "      <td>2153</td>\n",
       "      <td>Y</td>\n",
       "      <td>0.857143</td>\n",
       "      <td>14</td>\n",
       "      <td>Unexpected Variation</td>\n",
       "    </tr>\n",
       "    <tr>\n",
       "      <th>3393</th>\n",
       "      <td>DI03</td>\n",
       "      <td>TestPlate03</td>\n",
       "      <td>E08</td>\n",
       "      <td>2345</td>\n",
       "      <td>F</td>\n",
       "      <td>0.500000</td>\n",
       "      <td>14</td>\n",
       "      <td>Unexpected Variation</td>\n",
       "    </tr>\n",
       "    <tr>\n",
       "      <th>3394</th>\n",
       "      <td>DI03</td>\n",
       "      <td>TestPlate03</td>\n",
       "      <td>E08</td>\n",
       "      <td>2345</td>\n",
       "      <td>K</td>\n",
       "      <td>0.500000</td>\n",
       "      <td>14</td>\n",
       "      <td>Unexpected Variation</td>\n",
       "    </tr>\n",
       "    <tr>\n",
       "      <th>3395</th>\n",
       "      <td>DI03</td>\n",
       "      <td>TestPlate03</td>\n",
       "      <td>E08</td>\n",
       "      <td>2135</td>\n",
       "      <td>M</td>\n",
       "      <td>0.583333</td>\n",
       "      <td>12</td>\n",
       "      <td>Unexpected Variation</td>\n",
       "    </tr>\n",
       "    <tr>\n",
       "      <th>3396</th>\n",
       "      <td>DI03</td>\n",
       "      <td>TestPlate03</td>\n",
       "      <td>E08</td>\n",
       "      <td>2135</td>\n",
       "      <td>K</td>\n",
       "      <td>0.416667</td>\n",
       "      <td>12</td>\n",
       "      <td>Unexpected Variation</td>\n",
       "    </tr>\n",
       "    <tr>\n",
       "      <th>3397</th>\n",
       "      <td>DI03</td>\n",
       "      <td>TestPlate03</td>\n",
       "      <td>E08</td>\n",
       "      <td>2330</td>\n",
       "      <td>S</td>\n",
       "      <td>0.500000</td>\n",
       "      <td>14</td>\n",
       "      <td>Unexpected Variation</td>\n",
       "    </tr>\n",
       "    <tr>\n",
       "      <th>3398</th>\n",
       "      <td>DI03</td>\n",
       "      <td>TestPlate03</td>\n",
       "      <td>E08</td>\n",
       "      <td>2330</td>\n",
       "      <td>Y</td>\n",
       "      <td>0.500000</td>\n",
       "      <td>14</td>\n",
       "      <td>Unexpected Variation</td>\n",
       "    </tr>\n",
       "    <tr>\n",
       "      <th>3399</th>\n",
       "      <td>DI03</td>\n",
       "      <td>TestPlate03</td>\n",
       "      <td>E08</td>\n",
       "      <td>2141</td>\n",
       "      <td>L</td>\n",
       "      <td>0.142857</td>\n",
       "      <td>14</td>\n",
       "      <td>Unexpected Variation</td>\n",
       "    </tr>\n",
       "    <tr>\n",
       "      <th>3400</th>\n",
       "      <td>DI03</td>\n",
       "      <td>TestPlate03</td>\n",
       "      <td>E08</td>\n",
       "      <td>2141</td>\n",
       "      <td>Q</td>\n",
       "      <td>0.857143</td>\n",
       "      <td>14</td>\n",
       "      <td>Unexpected Variation</td>\n",
       "    </tr>\n",
       "  </tbody>\n",
       "</table>\n",
       "</div>"
      ],
      "text/plain": [
       "     IndexPlate        Plate Well AaPosition Aa  AlignmentFrequency  \\\n",
       "3383       DI03  TestPlate03  E08       2111  G            0.142857   \n",
       "3384       DI03  TestPlate03  E08       2111  D            0.857143   \n",
       "3385       DI03  TestPlate03  E08       2113  H            0.142857   \n",
       "3386       DI03  TestPlate03  E08       2113  A            0.857143   \n",
       "3387       DI03  TestPlate03  E08       2340  C            0.142857   \n",
       "3388       DI03  TestPlate03  E08       2340  P            0.857143   \n",
       "3389       DI03  TestPlate03  E08       2117  P            0.142857   \n",
       "3390       DI03  TestPlate03  E08       2117  Q            0.857143   \n",
       "3391       DI03  TestPlate03  E08       2153  S            0.142857   \n",
       "3392       DI03  TestPlate03  E08       2153  Y            0.857143   \n",
       "3393       DI03  TestPlate03  E08       2345  F            0.500000   \n",
       "3394       DI03  TestPlate03  E08       2345  K            0.500000   \n",
       "3395       DI03  TestPlate03  E08       2135  M            0.583333   \n",
       "3396       DI03  TestPlate03  E08       2135  K            0.416667   \n",
       "3397       DI03  TestPlate03  E08       2330  S            0.500000   \n",
       "3398       DI03  TestPlate03  E08       2330  Y            0.500000   \n",
       "3399       DI03  TestPlate03  E08       2141  L            0.142857   \n",
       "3400       DI03  TestPlate03  E08       2141  Q            0.857143   \n",
       "\n",
       "      WellSeqDepth                 Flags  \n",
       "3383            14  Unexpected Variation  \n",
       "3384            14  Unexpected Variation  \n",
       "3385            14  Unexpected Variation  \n",
       "3386            14  Unexpected Variation  \n",
       "3387            14  Unexpected Variation  \n",
       "3388            14  Unexpected Variation  \n",
       "3389            14  Unexpected Variation  \n",
       "3390            14  Unexpected Variation  \n",
       "3391            14  Unexpected Variation  \n",
       "3392            14  Unexpected Variation  \n",
       "3393            14  Unexpected Variation  \n",
       "3394            14  Unexpected Variation  \n",
       "3395            12  Unexpected Variation  \n",
       "3396            12  Unexpected Variation  \n",
       "3397            14  Unexpected Variation  \n",
       "3398            14  Unexpected Variation  \n",
       "3399            14  Unexpected Variation  \n",
       "3400            14  Unexpected Variation  "
      ]
     },
     "execution_count": 22,
     "metadata": {},
     "output_type": "execute_result"
    }
   ],
   "source": [
    "expected_decoupled_aa_df.loc[(expected_decoupled_aa_df.IndexPlate == \"DI03\")&(expected_decoupled_aa_df.Well == \"E08\")]"
   ]
  },
  {
   "cell_type": "code",
   "execution_count": 17,
   "id": "2cd15010-b983-4dee-9ab3-3ededd8ae97e",
   "metadata": {},
   "outputs": [
    {
     "data": {
      "text/plain": [
       "0.1302956387425841"
      ]
     },
     "execution_count": 17,
     "metadata": {},
     "output_type": "execute_result"
    }
   ],
   "source": [
    "test_run.config.variable_thresh"
   ]
  },
  {
   "cell_type": "code",
   "execution_count": 14,
   "id": "900286e1-7f6d-47a9-a4c7-ab0be6cfb9ff",
   "metadata": {},
   "outputs": [],
   "source": [
    "test_well = test_run.wells[199]"
   ]
  },
  {
   "cell_type": "code",
   "execution_count": 15,
   "id": "83613712-874b-49b2-940b-b35a5537f3b1",
   "metadata": {},
   "outputs": [
    {
     "data": {
      "text/plain": [
       "'A08'"
      ]
     },
     "execution_count": 15,
     "metadata": {},
     "output_type": "execute_result"
    }
   ],
   "source": [
    "test_well.wellname"
   ]
  },
  {
   "cell_type": "code",
   "execution_count": 16,
   "id": "4ca7e49e-79bc-4dfd-a61a-7c7794e0582f",
   "metadata": {},
   "outputs": [
    {
     "data": {
      "text/plain": [
       "4"
      ]
     },
     "execution_count": 16,
     "metadata": {},
     "output_type": "execute_result"
    }
   ],
   "source": [
    "test_well.total_reads"
   ]
  },
  {
   "cell_type": "code",
   "execution_count": 17,
   "id": "20b27cd8-01ee-4bcf-b4c8-a6cf7b196d99",
   "metadata": {},
   "outputs": [
    {
     "data": {
      "text/plain": [
       "True"
      ]
     },
     "execution_count": 17,
     "metadata": {},
     "output_type": "execute_result"
    }
   ],
   "source": [
    "test_well.dead_well"
   ]
  },
  {
   "cell_type": "code",
   "execution_count": 19,
   "id": "1251b087-a3cc-4b2b-8caf-ad9e8979db74",
   "metadata": {},
   "outputs": [
    {
     "data": {
      "text/plain": [
       "True"
      ]
     },
     "execution_count": 19,
     "metadata": {},
     "output_type": "execute_result"
    }
   ],
   "source": [
    "test_well.global_dead"
   ]
  },
  {
   "cell_type": "code",
   "execution_count": 34,
   "id": "f3a77545-ae3b-44aa-ab5b-83313bc2c1b7",
   "metadata": {},
   "outputs": [
    {
     "data": {
      "text/plain": [
       "[<tests.data_generation.variant_generator.FakeVariant at 0x7f429c74e610>,\n",
       " <tests.data_generation.variant_generator.FakeVariant at 0x7f429c74e6d0>]"
      ]
     },
     "execution_count": 34,
     "metadata": {},
     "output_type": "execute_result"
    }
   ],
   "source": [
    "test_well.variants"
   ]
  },
  {
   "cell_type": "code",
   "execution_count": 39,
   "id": "9dc0b755-0bff-4449-b81f-bf86cec73195",
   "metadata": {},
   "outputs": [
    {
     "data": {
      "text/plain": [
       "True"
      ]
     },
     "execution_count": 39,
     "metadata": {},
     "output_type": "execute_result"
    }
   ],
   "source": [
    "test_well.global_dead"
   ]
  },
  {
   "cell_type": "code",
   "execution_count": 19,
   "id": "5ff33535-1ebc-46f6-b617-4ef19add00c4",
   "metadata": {},
   "outputs": [
    {
     "data": {
      "text/plain": [
       "98"
      ]
     },
     "execution_count": 19,
     "metadata": {},
     "output_type": "execute_result"
    }
   ],
   "source": [
    "test_run.wells[8].variants[0].total_counts"
   ]
  },
  {
   "cell_type": "code",
   "execution_count": 55,
   "id": "b0fa2e8a-7cbb-4e4b-83a3-8203bcd3c96d",
   "metadata": {},
   "outputs": [
    {
     "data": {
      "text/plain": [
       "16"
      ]
     },
     "execution_count": 57,
     "metadata": {},
     "output_type": "execute_result"
    }
   ],
   "source": [
    "test_run.config.average_q_cutoff"
   ]
  },
  {
   "cell_type": "code",
   "execution_count": 51,
   "id": "cd3afccf-9d8f-46fa-b9f7-cea0bb207320",
   "metadata": {},
   "outputs": [],
   "source": [
    "import numpy as np\n",
    "back_quals = np.concatenate((\n",
    "            test_run.wells[8].refseq.rbc_qualities,\n",
    "            test_run.wells[8].refseq.adapter_qualities_r,\n",
    "            test_run.wells[8].refseq.frameshift_back_qualities,\n",
    "            test_run.wells[8].refseq.primer_qualities_r\n",
    "        ))"
   ]
  },
  {
   "cell_type": "code",
   "execution_count": 52,
   "id": "0db74ea8-8bbd-4d3a-b3d6-9ae9a778b286",
   "metadata": {},
   "outputs": [],
   "source": [
    "available_read_r = test_run.wells[8].config.readlength - len(back_quals)"
   ]
  },
  {
   "cell_type": "code",
   "execution_count": 53,
   "id": "378dd302-a030-4108-849e-de3447c0b84e",
   "metadata": {},
   "outputs": [],
   "source": [
    "total_r_quals = np.concatenate(\n",
    "    (np.tile(back_quals, (98, 1)), np.flip(test_run.wells[8].variants[0].r_quals, axis = 1)),\n",
    "    axis = 1)"
   ]
  },
  {
   "cell_type": "code",
   "execution_count": 74,
   "id": "1e1ee377-a56c-4ece-a693-c24778138ef7",
   "metadata": {},
   "outputs": [
    {
     "data": {
      "text/plain": [
       "array([43, 52, 45, 61, 25, 84, 69, 32, 20, 19, 76, 60, 24, 59,  6, 83, 14,\n",
       "        5, 56, 28, 11, 37, 65, 44, 81, 77,  3, 72, 87, 31, 46, 35, 41, 10,\n",
       "       17, 36, 58,  8, 54, 79,  4, 86,  0, 62, 18, 38, 74,  2, 22, 13, 34,\n",
       "       70,  1, 27, 21, 42, 55, 53, 12, 26, 63, 67, 40, 78, 39, 30, 57, 15,\n",
       "       50, 68, 49, 29, 85, 71, 16, 23, 47, 33,  9, 48, 64, 80, 73, 66,  7,\n",
       "       82, 75, 51, 95, 94, 93, 92, 88, 90, 89, 96, 91, 97])"
      ]
     },
     "execution_count": 74,
     "metadata": {},
     "output_type": "execute_result"
    }
   ],
   "source": [
    "np.argsort(test_run.wells[8].variants[0].r_quals[:, -available_read_r:].mean(axis = 1))"
   ]
  },
  {
   "cell_type": "code",
   "execution_count": 75,
   "id": "dfeef58f-e982-4f81-a53c-52b61c6ba300",
   "metadata": {
    "tags": []
   },
   "outputs": [
    {
     "data": {
      "text/plain": [
       "16.22279792746114"
      ]
     },
     "execution_count": 75,
     "metadata": {},
     "output_type": "execute_result"
    }
   ],
   "source": [
    "np.mean([ord(character) - 33 for character in \"\"\"GDE@D=F:FB<8=C?<BFB8:I:DE>F:BDH;D:89D98C>FIA@888DEE;A9<E:B:D;GCA;8(,&#.$+/,&./(00%/-++*(''#-%\"0!',0**/.*,(&(!)+0'-!,',#%+0.!\"*\"0(.+)*#(.'*/&$*++.,.!-.-+%0-#!.0/.+&-$+0/.%'$)0\"%(+)-/-%)!,%./0/'#\"\"\"])"
   ]
  },
  {
   "cell_type": "markdown",
   "id": "ca06d33e-0983-4e3a-a38b-2b2f35955eb8",
   "metadata": {},
   "source": [
    "To do:\n",
    "1. Build code to test the \"max\" files coming out\n",
    "4. Add on code to test for DEAD wells."
   ]
  },
  {
   "cell_type": "code",
   "execution_count": 12,
   "id": "c19113a5-cadf-4ef3-adc0-b79e501134dc",
   "metadata": {},
   "outputs": [
    {
     "data": {
      "text/plain": [
       "array([ 1,  9, 13, 32, 35, 36, 43, 47, 95])"
      ]
     },
     "execution_count": 12,
     "metadata": {},
     "output_type": "execute_result"
    }
   ],
   "source": [
    "test_run.wells[385].variants[0].mutated_positions"
   ]
  },
  {
   "cell_type": "code",
   "execution_count": 15,
   "id": "4f8bf0e9-b805-439f-9701-d5eea9e62aca",
   "metadata": {},
   "outputs": [
    {
     "data": {
      "text/plain": [
       "True"
      ]
     },
     "execution_count": 15,
     "metadata": {},
     "output_type": "execute_result"
    }
   ],
   "source": [
    "test_run.wells[385].global_dead"
   ]
  },
  {
   "cell_type": "code",
   "execution_count": null,
   "id": "c7d27030-74cd-4a1c-a0a2-8342ea8bd12f",
   "metadata": {},
   "outputs": [],
   "source": [
    "test_run"
   ]
  },
  {
   "cell_type": "code",
   "execution_count": 4,
   "id": "2e7b26b3-de33-4365-9fea-0b3397f01115",
   "metadata": {},
   "outputs": [
    {
     "data": {
      "text/plain": [
       "dtype('int64')"
      ]
     },
     "execution_count": 4,
     "metadata": {},
     "output_type": "execute_result"
    }
   ],
   "source": [
    "import numpy as np\n",
    "np.concatenate([\n",
    "    np.array([1, 2, 3]),\n",
    "    np.array([1, 2, 3]) + 1\n",
    "]).dtype"
   ]
  },
  {
   "cell_type": "code",
   "execution_count": 5,
   "id": "07065d1c-79ff-4595-be12-55dafbf3a4fc",
   "metadata": {},
   "outputs": [
    {
     "data": {
      "text/plain": [
       "array([1, 2, 3])"
      ]
     },
     "execution_count": 5,
     "metadata": {},
     "output_type": "execute_result"
    }
   ],
   "source": [
    "test = np.array([1,2,3])\n",
    "test[-10:]"
   ]
  },
  {
   "cell_type": "code",
   "execution_count": null,
   "id": "730d9cdb-6b33-4a7d-8022-b36b2ffbdecf",
   "metadata": {},
   "outputs": [],
   "source": []
  }
 ],
 "metadata": {
  "kernelspec": {
   "display_name": "Python 3 (ipykernel)",
   "language": "python",
   "name": "python3"
  },
  "language_info": {
   "codemirror_mode": {
    "name": "ipython",
    "version": 3
   },
   "file_extension": ".py",
   "mimetype": "text/x-python",
   "name": "python",
   "nbconvert_exporter": "python",
   "pygments_lexer": "ipython3",
   "version": "3.8.11"
  }
 },
 "nbformat": 4,
 "nbformat_minor": 5
}
