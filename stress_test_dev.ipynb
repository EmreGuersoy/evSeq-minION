{
 "cells": [
  {
   "cell_type": "code",
   "execution_count": 1,
   "id": "9c391ce5-99ac-4ba4-9ab9-f25907ae324b",
   "metadata": {},
   "outputs": [],
   "source": [
    "import tests.data_generation.globals as test_glob\n",
    "from tests.data_generation.globals import SAVELOC\n",
    "from tests.data_generation.run_generator import FakeRun\n",
    "from tests.data_generation.stress_tests import run_aa_stress_test, check_well_is_parent, calculate_parent_counts\n",
    "\n",
    "import os\n",
    "import pickle\n",
    "import random\n",
    "import shutil\n",
    "import numpy as np\n",
    "import pandas as pd\n",
    "from glob import glob"
   ]
  },
  {
   "cell_type": "markdown",
   "id": "f584a77c-3e5c-433e-a7be-b6ff7c61a390",
   "metadata": {},
   "source": [
    "This is for stress-testing the evSeq code by passing in random inputs with known expected output. We then check to see if the evSeq outputs match the expected."
   ]
  },
  {
   "cell_type": "code",
   "execution_count": 2,
   "id": "18271d40-414c-44aa-ad47-a8707410470e",
   "metadata": {},
   "outputs": [],
   "source": [
    "def run_evseq_stress_test(detailed, include_nnn):\n",
    "    \n",
    "    # Run until we break something\n",
    "    counter = -1\n",
    "    while True:\n",
    "        \n",
    "        # Update the counter\n",
    "        counter += 1\n",
    "        \n",
    "        # Update the global RNG to match the counter (for reproducbility)\n",
    "        test_glob.RANDOM_SEED = counter\n",
    "        test_glob.NP_RNG = np.random.default_rng(counter)\n",
    "        test_glob.RANDOM_RNG = random.Random(counter)\n",
    "    \n",
    "        # Build a test run and the associated output files\n",
    "        test_run = FakeRun(detailed = detailed)\n",
    "        test_run.build_fastq()\n",
    "        test_run.build_refseq(include_nnn)\n",
    "\n",
    "        # Run evSeq on the generated data\n",
    "#         test_run.run_evseq()\n",
    "\n",
    "        return test_run\n",
    "        \n",
    "        # Get the expected outputs\n",
    "        expected_out = test_run.build_expected_aa()\n",
    "\n",
    "        # Get the true outputs. Sort the true output in the same\n",
    "        # way the expected was sorted.\n",
    "        most_recent_run_path = sorted(glob(os.path.join(SAVELOC, \"evSeqOutput\", \"*\")))[-1]\n",
    "        true_out = pd.read_csv(os.path.join(most_recent_run_path, \"OutputCounts\", \n",
    "                                            \"AminoAcids_Decoupled_All.csv\"))\n",
    "        true_out.sort_values(by = [\"IndexPlate\", \"Well\", \"AaPosition\", \"Aa\"],\n",
    "                             inplace = True)\n",
    "\n",
    "        # Test the two dataframes to make sure they agree\n",
    "        test_passed, bad_platewells, reports = test_aa(expected_out, true_out)\n",
    "        \n",
    "        # Note success if all tests passed and delete output\n",
    "        if test_passed:\n",
    "            print(f\"All tests passed for seed: {counter}\")\n",
    "            shutil.rmtree(most_recent_run_path)\n",
    "        \n",
    "        # Save the error reports if there were any\n",
    "        else:\n",
    "            # Report errors\n",
    "            for plate, well in bad_platewells:\n",
    "                print(f\"Errors found for {plate}-{well} with seed {counter}.\")\n",
    "                \n",
    "            # Save the messed up components\n",
    "            error_loc = os.path.join(SAVELOC, \"ErrorReports\")\n",
    "            if not os.path.isdir(error_loc):\n",
    "                os.mkdir(error_loc)\n",
    "            with open(os.path.join(error_loc, f\"{counter}.pkl\"), \"wb\") as f:\n",
    "                pickle.dump([bad_platewells, reports], f)"
   ]
  },
  {
   "cell_type": "code",
   "execution_count": 3,
   "id": "1acf97cf-cd0d-4967-a727-ae16c158a3a9",
   "metadata": {
    "tags": []
   },
   "outputs": [],
   "source": [
    "test_run = run_evseq_stress_test(True, True)"
   ]
  },
  {
   "cell_type": "code",
   "execution_count": 4,
   "id": "7e7e5e48-e4b9-4870-8e75-bd54c880aa3e",
   "metadata": {},
   "outputs": [],
   "source": [
    "expected_decoupled_aa_df, expected_coupled_aa_df = test_run.build_expected_aa()    "
   ]
  },
  {
   "cell_type": "code",
   "execution_count": 5,
   "id": "27e7bfcd-fe57-42f8-8dbd-0a9d8ed00c0f",
   "metadata": {},
   "outputs": [
    {
     "data": {
      "text/html": [
       "<div>\n",
       "<style scoped>\n",
       "    .dataframe tbody tr th:only-of-type {\n",
       "        vertical-align: middle;\n",
       "    }\n",
       "\n",
       "    .dataframe tbody tr th {\n",
       "        vertical-align: top;\n",
       "    }\n",
       "\n",
       "    .dataframe thead th {\n",
       "        text-align: right;\n",
       "    }\n",
       "</style>\n",
       "<table border=\"1\" class=\"dataframe\">\n",
       "  <thead>\n",
       "    <tr style=\"text-align: right;\">\n",
       "      <th></th>\n",
       "      <th>IndexPlate</th>\n",
       "      <th>Plate</th>\n",
       "      <th>Well</th>\n",
       "      <th>VariantCombo</th>\n",
       "      <th>SimpleCombo</th>\n",
       "      <th>VariantsFound</th>\n",
       "      <th>AlignmentFrequency</th>\n",
       "      <th>WellSeqDepth</th>\n",
       "      <th>VariantSequence</th>\n",
       "      <th>Flags</th>\n",
       "    </tr>\n",
       "  </thead>\n",
       "  <tbody>\n",
       "    <tr>\n",
       "      <th>0</th>\n",
       "      <td>DI01</td>\n",
       "      <td>TestPlate01</td>\n",
       "      <td>A01</td>\n",
       "      <td>P3102P_*3108*_M3119M_G3138G_C3144C_Y3156Y_Q327...</td>\n",
       "      <td>P*MGCYQT</td>\n",
       "      <td>8</td>\n",
       "      <td>0.500000</td>\n",
       "      <td>34</td>\n",
       "      <td>PLFG*A*DTPWLNYRPMMWFTQ*IVM*SRTDAV*MAGLII**C*QM...</td>\n",
       "      <td>None</td>\n",
       "    </tr>\n",
       "    <tr>\n",
       "      <th>1</th>\n",
       "      <td>DI01</td>\n",
       "      <td>TestPlate01</td>\n",
       "      <td>A01</td>\n",
       "      <td>P3102F_*3108N_M3119L_G3138R_C3144Q_Y3156M_Q327...</td>\n",
       "      <td>FNLRQM*N</td>\n",
       "      <td>8</td>\n",
       "      <td>0.500000</td>\n",
       "      <td>34</td>\n",
       "      <td>FLFG*ANDTPWLNYRPMLWFTQ*IVM*SRTDAV*MARLII**Q*QM...</td>\n",
       "      <td>None</td>\n",
       "    </tr>\n",
       "    <tr>\n",
       "      <th>3</th>\n",
       "      <td>DI01</td>\n",
       "      <td>TestPlate01</td>\n",
       "      <td>A02</td>\n",
       "      <td>A9452L_F9466W_?9467F_?9470E_E9471E_T9482*_?948...</td>\n",
       "      <td>LWFEE*IQ</td>\n",
       "      <td>8</td>\n",
       "      <td>0.195652</td>\n",
       "      <td>92</td>\n",
       "      <td>ARDLVWFLLTPAPHEKVYCMRWFFEEEECCSGSNVMS*AMKGKILT...</td>\n",
       "      <td>None</td>\n",
       "    </tr>\n",
       "    <tr>\n",
       "      <th>4</th>\n",
       "      <td>DI01</td>\n",
       "      <td>TestPlate01</td>\n",
       "      <td>A02</td>\n",
       "      <td>A9452A_F9466F_?9467F_?9470V_E9471L_T9482T_?948...</td>\n",
       "      <td>AFFVLTIQ</td>\n",
       "      <td>8</td>\n",
       "      <td>0.391304</td>\n",
       "      <td>92</td>\n",
       "      <td>ARDLVWFALTPAPHEKVYCMRFFFEVLECCSGSNVMSTAMKGKILT...</td>\n",
       "      <td>None</td>\n",
       "    </tr>\n",
       "    <tr>\n",
       "      <th>2</th>\n",
       "      <td>DI01</td>\n",
       "      <td>TestPlate01</td>\n",
       "      <td>A02</td>\n",
       "      <td>A9452A_F9466F_?9467R_?9470H_E9471E_T9482T_?948...</td>\n",
       "      <td>AFRHETMC</td>\n",
       "      <td>8</td>\n",
       "      <td>0.413043</td>\n",
       "      <td>92</td>\n",
       "      <td>ARDLVWFALTPAPHEKVYCMRFRFEHEECCSGSNVMSTAMKGKMLT...</td>\n",
       "      <td>None</td>\n",
       "    </tr>\n",
       "    <tr>\n",
       "      <th>...</th>\n",
       "      <td>...</td>\n",
       "      <td>...</td>\n",
       "      <td>...</td>\n",
       "      <td>...</td>\n",
       "      <td>...</td>\n",
       "      <td>...</td>\n",
       "      <td>...</td>\n",
       "      <td>...</td>\n",
       "      <td>...</td>\n",
       "      <td>...</td>\n",
       "    </tr>\n",
       "    <tr>\n",
       "      <th>1559</th>\n",
       "      <td>DI08</td>\n",
       "      <td>TestPlate08</td>\n",
       "      <td>H11</td>\n",
       "      <td>C6935M_K6960S_D6983M_?7017F_?7021C_F7023F_I7030S</td>\n",
       "      <td>MSMFCFS</td>\n",
       "      <td>7</td>\n",
       "      <td>0.685393</td>\n",
       "      <td>89</td>\n",
       "      <td>PK*PPTCEMYN*MNQMIYKWCSSHEVVNDKYEVSVRLPLQILAKGE...</td>\n",
       "      <td>None</td>\n",
       "    </tr>\n",
       "    <tr>\n",
       "      <th>1562</th>\n",
       "      <td>DI08</td>\n",
       "      <td>TestPlate08</td>\n",
       "      <td>H12</td>\n",
       "      <td>A585S_C588E_W591N_Q607A_G609F_H610S_Y622G_?624...</td>\n",
       "      <td>SENAFSGFAHEHLNR</td>\n",
       "      <td>15</td>\n",
       "      <td>0.155172</td>\n",
       "      <td>58</td>\n",
       "      <td>SQPEALNLKPYAYDCGTKTYYKAIFSRNGKGMCCHSIGFFHPYMCT...</td>\n",
       "      <td>None</td>\n",
       "    </tr>\n",
       "    <tr>\n",
       "      <th>1561</th>\n",
       "      <td>DI08</td>\n",
       "      <td>TestPlate08</td>\n",
       "      <td>H12</td>\n",
       "      <td>A585A_C588C_W591W_Q607Q_G609G_H610H_Y622Y_?624...</td>\n",
       "      <td>ACWQGHYWRHEHQHR</td>\n",
       "      <td>15</td>\n",
       "      <td>0.224138</td>\n",
       "      <td>58</td>\n",
       "      <td>AQPCALWLKPYAYDCGTKTYYKQIGHRNGKGMCCHSIYFWHPYMCT...</td>\n",
       "      <td>None</td>\n",
       "    </tr>\n",
       "    <tr>\n",
       "      <th>1563</th>\n",
       "      <td>DI08</td>\n",
       "      <td>TestPlate08</td>\n",
       "      <td>H12</td>\n",
       "      <td>A585A_C588C_W591W_Q607Q_G609G_H610H_Y622Y_?624...</td>\n",
       "      <td>ACWQGHYFRKEHQHK</td>\n",
       "      <td>15</td>\n",
       "      <td>0.293103</td>\n",
       "      <td>58</td>\n",
       "      <td>AQPCALWLKPYAYDCGTKTYYKQIGHRNGKGMCCHSIYFFHPYMCT...</td>\n",
       "      <td>None</td>\n",
       "    </tr>\n",
       "    <tr>\n",
       "      <th>1564</th>\n",
       "      <td>DI08</td>\n",
       "      <td>TestPlate08</td>\n",
       "      <td>H12</td>\n",
       "      <td>A585A_C588C_W591W_Q607Q_G609G_H610H_Y622Y_?624...</td>\n",
       "      <td>ACWQGHYFRHCMQHR</td>\n",
       "      <td>15</td>\n",
       "      <td>0.327586</td>\n",
       "      <td>58</td>\n",
       "      <td>AQPCALWLKPYAYDCGTKTYYKQIGHRNGKGMCCHSIYFFHPYMCT...</td>\n",
       "      <td>None</td>\n",
       "    </tr>\n",
       "  </tbody>\n",
       "</table>\n",
       "<p>1565 rows × 10 columns</p>\n",
       "</div>"
      ],
      "text/plain": [
       "     IndexPlate        Plate Well  \\\n",
       "0          DI01  TestPlate01  A01   \n",
       "1          DI01  TestPlate01  A01   \n",
       "3          DI01  TestPlate01  A02   \n",
       "4          DI01  TestPlate01  A02   \n",
       "2          DI01  TestPlate01  A02   \n",
       "...         ...          ...  ...   \n",
       "1559       DI08  TestPlate08  H11   \n",
       "1562       DI08  TestPlate08  H12   \n",
       "1561       DI08  TestPlate08  H12   \n",
       "1563       DI08  TestPlate08  H12   \n",
       "1564       DI08  TestPlate08  H12   \n",
       "\n",
       "                                           VariantCombo      SimpleCombo  \\\n",
       "0     P3102P_*3108*_M3119M_G3138G_C3144C_Y3156Y_Q327...         P*MGCYQT   \n",
       "1     P3102F_*3108N_M3119L_G3138R_C3144Q_Y3156M_Q327...         FNLRQM*N   \n",
       "3     A9452L_F9466W_?9467F_?9470E_E9471E_T9482*_?948...         LWFEE*IQ   \n",
       "4     A9452A_F9466F_?9467F_?9470V_E9471L_T9482T_?948...         AFFVLTIQ   \n",
       "2     A9452A_F9466F_?9467R_?9470H_E9471E_T9482T_?948...         AFRHETMC   \n",
       "...                                                 ...              ...   \n",
       "1559   C6935M_K6960S_D6983M_?7017F_?7021C_F7023F_I7030S          MSMFCFS   \n",
       "1562  A585S_C588E_W591N_Q607A_G609F_H610S_Y622G_?624...  SENAFSGFAHEHLNR   \n",
       "1561  A585A_C588C_W591W_Q607Q_G609G_H610H_Y622Y_?624...  ACWQGHYWRHEHQHR   \n",
       "1563  A585A_C588C_W591W_Q607Q_G609G_H610H_Y622Y_?624...  ACWQGHYFRKEHQHK   \n",
       "1564  A585A_C588C_W591W_Q607Q_G609G_H610H_Y622Y_?624...  ACWQGHYFRHCMQHR   \n",
       "\n",
       "      VariantsFound  AlignmentFrequency  WellSeqDepth  \\\n",
       "0                 8            0.500000            34   \n",
       "1                 8            0.500000            34   \n",
       "3                 8            0.195652            92   \n",
       "4                 8            0.391304            92   \n",
       "2                 8            0.413043            92   \n",
       "...             ...                 ...           ...   \n",
       "1559              7            0.685393            89   \n",
       "1562             15            0.155172            58   \n",
       "1561             15            0.224138            58   \n",
       "1563             15            0.293103            58   \n",
       "1564             15            0.327586            58   \n",
       "\n",
       "                                        VariantSequence Flags  \n",
       "0     PLFG*A*DTPWLNYRPMMWFTQ*IVM*SRTDAV*MAGLII**C*QM...  None  \n",
       "1     FLFG*ANDTPWLNYRPMLWFTQ*IVM*SRTDAV*MARLII**Q*QM...  None  \n",
       "3     ARDLVWFLLTPAPHEKVYCMRWFFEEEECCSGSNVMS*AMKGKILT...  None  \n",
       "4     ARDLVWFALTPAPHEKVYCMRFFFEVLECCSGSNVMSTAMKGKILT...  None  \n",
       "2     ARDLVWFALTPAPHEKVYCMRFRFEHEECCSGSNVMSTAMKGKMLT...  None  \n",
       "...                                                 ...   ...  \n",
       "1559  PK*PPTCEMYN*MNQMIYKWCSSHEVVNDKYEVSVRLPLQILAKGE...  None  \n",
       "1562  SQPEALNLKPYAYDCGTKTYYKAIFSRNGKGMCCHSIGFFHPYMCT...  None  \n",
       "1561  AQPCALWLKPYAYDCGTKTYYKQIGHRNGKGMCCHSIYFWHPYMCT...  None  \n",
       "1563  AQPCALWLKPYAYDCGTKTYYKQIGHRNGKGMCCHSIYFFHPYMCT...  None  \n",
       "1564  AQPCALWLKPYAYDCGTKTYYKQIGHRNGKGMCCHSIYFFHPYMCT...  None  \n",
       "\n",
       "[1565 rows x 10 columns]"
      ]
     },
     "execution_count": 5,
     "metadata": {},
     "output_type": "execute_result"
    }
   ],
   "source": [
    "expected_coupled_aa_df"
   ]
  },
  {
   "cell_type": "code",
   "execution_count": 13,
   "id": "a06f699b-d0e2-4963-acbe-74db7935a909",
   "metadata": {},
   "outputs": [
    {
     "data": {
      "text/plain": [
       "'P3102P_*3108*_M3119M_G3138G_C3144C_Y3156Y_Q3274Q_T3291T'"
      ]
     },
     "execution_count": 13,
     "metadata": {},
     "output_type": "execute_result"
    }
   ],
   "source": [
    "expected_coupled_aa_df.VariantCombo.values[1]"
   ]
  },
  {
   "cell_type": "code",
   "execution_count": 21,
   "id": "7a80cfae-2836-44e9-a54f-bef3969cf0d7",
   "metadata": {},
   "outputs": [
    {
     "name": "stdout",
     "output_type": "stream",
     "text": [
      "HI\n"
     ]
    }
   ],
   "source": [
    "if all(mutated_pos in test_run.wells[0].refseq.double_count_inds\n",
    "       for mutated_pos in test_run.wells[0].variants[0].mutated_positions):\n",
    "    print(\"HI\")"
   ]
  },
  {
   "cell_type": "code",
   "execution_count": 23,
   "id": "09985e60-414d-48c4-87a0-e0bec565bb45",
   "metadata": {},
   "outputs": [
    {
     "data": {
      "text/plain": [
       "True"
      ]
     },
     "execution_count": 23,
     "metadata": {},
     "output_type": "execute_result"
    }
   ],
   "source": [
    "all([])"
   ]
  },
  {
   "cell_type": "code",
   "execution_count": 24,
   "id": "794d1c7b-4c46-4346-bc0e-3ed165027278",
   "metadata": {},
   "outputs": [
    {
     "data": {
      "text/plain": [
       "False"
      ]
     },
     "execution_count": 24,
     "metadata": {},
     "output_type": "execute_result"
    }
   ],
   "source": [
    "any([])"
   ]
  },
  {
   "cell_type": "code",
   "execution_count": 17,
   "id": "0e3237dd-dc55-4fd3-b445-08d3c59d97fb",
   "metadata": {},
   "outputs": [
    {
     "data": {
      "text/plain": [
       "17"
      ]
     },
     "execution_count": 17,
     "metadata": {},
     "output_type": "execute_result"
    }
   ],
   "source": [
    "test_run.wells[0].variants[0].doub"
   ]
  },
  {
   "cell_type": "code",
   "execution_count": 18,
   "id": "e9697402-3fbe-4e67-984f-46e2a9ed8d44",
   "metadata": {},
   "outputs": [
    {
     "data": {
      "text/plain": [
       "17"
      ]
     },
     "execution_count": 18,
     "metadata": {},
     "output_type": "execute_result"
    }
   ],
   "source": [
    "test_run.wells[0].variants[1].total_counts"
   ]
  },
  {
   "cell_type": "code",
   "execution_count": 7,
   "id": "d962b556-80f5-460f-ac4b-3c913e9bd8c4",
   "metadata": {},
   "outputs": [],
   "source": [
    "# Loop over all wells\n",
    "for well in test_run.wells:\n",
    "\n",
    "    # Skip dud wells\n",
    "    if well.dud_well:\n",
    "        continue\n",
    "\n",
    "    # Gather expected mutation positions\n",
    "    mut_key = (well.platename, well.wellname)\n",
    "    nnn_key = mut_key if test_run.detailed else well.platename\n",
    "    nnn_positions = expected_nnn_positions[nnn_key]\n",
    "    mut_positions = expected_mut_positions[mut_key]\n",
    "    all_positions = nnn_positions | mut_positions\n",
    "    \n",
    "    # If there are no positions OR the positions all give\n",
    "    # the parent amino acid, this is a parent well\n",
    "    is_parent = check_well_is_parent(well, all_positions, nnn_positions)\n",
    "    \n",
    "    break"
   ]
  },
  {
   "cell_type": "code",
   "execution_count": 35,
   "id": "cfadd607-df49-4ff6-a345-258e3ed354a0",
   "metadata": {},
   "outputs": [],
   "source": [
    "# If this is a parent well, format as appropriate\n",
    "if is_parent:\n",
    "    \n",
    "    res = [[\n",
    "        well.platename,\n",
    "        well.platenickname,\n",
    "        well.wellname,\n",
    "        \"#PARENT#\",\n",
    "        \"#PARENT#\",\n",
    "        0,\n",
    "        1.0,\n",
    "        calculate_parent_counts(well),\n",
    "        \"\".join(well.refseq.aa_refseq),\n",
    "        \"#PARENT#\"\n",
    "    ]]\n",
    "        \n",
    "# Get a sorted list of all positions. \n",
    "all_positions_sorted = sorted(list(all_positions))\n",
    "\n",
    "# Identify indices where the aa is (1) the same as the parent for all variants,\n",
    "# and (2) not an \"NNN\" position, continue. Remove these from the variant pool\n",
    "# as evSeq will not find it.\n",
    "no_use_positions = []\n",
    "for pos in all_positions_sorted:\n",
    "    same_as_ref_check = all(variant.base_mut_aa_seq[pos] == well.refseq.aa_refseq[pos]\n",
    "                            for variant in well.variants)\n",
    "    if (pos not in nnn_positions) and same_as_ref_check:\n",
    "        no_use_positions.append(pos)\n",
    "no_use_positions = set(no_use_positions)\n",
    "        \n",
    "adjusted_positions = [pos + well.refseq.aa_ind_start\n",
    "                      for pos in all_positions_sorted\n",
    "                      if pos not in no_use_positions]\n",
    "    \n",
    "    \n",
    "# Get variant counts and frequencies\n",
    "combo_counts = [variant.expected_combo_counts for variant in well.variants]\n",
    "total_counts = sum(combo_counts)\n",
    "frequencies = combo_counts / total_counts\n",
    "    \n",
    "# Loop over all variants\n",
    "well_res = [None] * len(well.variants)\n",
    "for i, variant in enumerate(well.variants):\n",
    "    \n",
    "    # Grab the amino acid identities for both the variant and reference\n",
    "    # at all positions. \n",
    "    all_ref_aas = [None] * len(all_positions_sorted)\n",
    "    all_variant_aas = all_ref_aas.copy()\n",
    "    for j, pos in enumerate(all_positions_sorted):\n",
    "        all_ref_aas[j] = \"?\" if pos in nnn_positions else well.refseq.aa_refseq[pos]\n",
    "        all_variant_aas[j] = variant.base_mut_aa_seq[pos]\n",
    "    \n",
    "    # Build the variant combo\n",
    "    variant_combo = \"_\".join([f\"{ref_aa}{pos}{mut_aa}\" for ref_aa, pos, mut_aa in\n",
    "                              zip(all_ref_aas, adjusted_positions, all_variant_aas)])\n",
    "        \n",
    "    # Build the expected outputs\n",
    "    well_res[i] = [\n",
    "        well.platename,\n",
    "        well.platenickname,\n",
    "        well.wellname,\n",
    "        variant_combo,\n",
    "        \"\".join(all_variant_aas),\n",
    "        len(adjusted_positions),\n",
    "        frequencies[i],\n",
    "        total_counts,\n",
    "        \"\".join(variant.base_mut_aa_seq)\n",
    "    ] "
   ]
  },
  {
   "cell_type": "code",
   "execution_count": 36,
   "id": "14deac50-7a50-4397-8034-19de9e8d4c2d",
   "metadata": {},
   "outputs": [
    {
     "data": {
      "text/plain": [
       "[['DI01',\n",
       "  'TestPlate01',\n",
       "  'A01',\n",
       "  '?3102C_?3113D_V3126V_*3128*_A3154A_Y3160Y_?3168W_?3264R_?3271W_F3272F_R3278R_?3280H_?3288E_?3297Q_?3306Y_?3312K_?3318K_*3319*',\n",
       "  'CDV*AYWRWFRHEQYKK*W',\n",
       "  18,\n",
       "  0.47058823529411764,\n",
       "  68,\n",
       "  'CLFG*A*DTPWDNYRPMMWFTQ*IVM*SRTDAV*MAGLII**C*QMPFNSIKYSYHQWWTQQIVCNRTMHGILRVAWMHQNFGRNLHRIGVFEQPAAHTISGFSVAAQHNDVKVSQESAMIYEWAPNVGVQVERWAHPCLPSWIKKYELAIWPHYNW*KTRIWIMESAIFRRQWWDHCEYWQYV*CQAYTYHDLYYVITELGEVKCWYFIKPKDWQ*WRD'],\n",
       " ['DI01',\n",
       "  'TestPlate01',\n",
       "  'A01',\n",
       "  '?3102P_?3113L_V3126T_*3128K_A3154A_Y3160S_?3168P_?3264R_?3271L_F3272I_R3278F_?3280C_?3288R_?3297V_?3306H_?3312S_?3318M_*3319R',\n",
       "  'PLTKASPRLIFCRVHSMRT',\n",
       "  18,\n",
       "  0.5294117647058824,\n",
       "  68,\n",
       "  'PLFG*A*DTPWLNYRPMMWFTQ*ITMKSRTDAV*MAGLII**C*QMPFNSIKSSYHQWPTQQIVCNRTMHGILRVAWMHQNFGRNLHRIGVFEQPAAHTISGFSVAAQHNDVKVSQESAMIYEWAPNVGVQVERWAHPCLPSWIKKYELAIWPHYNW*KTRILIMESAIIFRQWWDCCRYWQYV*CVAYTYHDLYHVITELGEVSCWYFIMPKDWQRTRD']]"
      ]
     },
     "execution_count": 36,
     "metadata": {},
     "output_type": "execute_result"
    }
   ],
   "source": [
    "well_res"
   ]
  },
  {
   "cell_type": "markdown",
   "id": "ca06d33e-0983-4e3a-a38b-2b2f35955eb8",
   "metadata": {},
   "source": [
    "To do:\n",
    "1. Build code to test combinations of amino acids coming out\n",
    "3. Build code to test the \"max\" files coming out\n",
    "4. Add on code to test for DEAD wells."
   ]
  },
  {
   "cell_type": "code",
   "execution_count": 17,
   "id": "6df83184-ae27-413e-ab47-ede3c4294e61",
   "metadata": {},
   "outputs": [
    {
     "data": {
      "text/plain": [
       "(array([1, 2, 3, 5]), array([0, 1, 2, 0, 1, 3]), array([2, 2, 1, 1]))"
      ]
     },
     "execution_count": 17,
     "metadata": {},
     "output_type": "execute_result"
    }
   ],
   "source": [
    "test = np.array([1, 2, 3, 1, 2, 5])\n",
    "np.unique(test, return_counts=True, return_inverse = True)\n"
   ]
  },
  {
   "cell_type": "code",
   "execution_count": 15,
   "id": "bbe38076-969b-4f6a-8170-ea65b51d6f8a",
   "metadata": {},
   "outputs": [],
   "source": [
    "test_arr = np.random.rand(100, 23, 4)"
   ]
  },
  {
   "cell_type": "code",
   "execution_count": 16,
   "id": "231e796c-e2d1-49f3-bb32-9190a064e29c",
   "metadata": {},
   "outputs": [
    {
     "data": {
      "text/plain": [
       "(100, 4)"
      ]
     },
     "execution_count": 16,
     "metadata": {},
     "output_type": "execute_result"
    }
   ],
   "source": [
    "np.all(test_arr < 0.5, axis = 1).shape"
   ]
  },
  {
   "cell_type": "code",
   "execution_count": null,
   "id": "8d7f46aa-627a-4eca-8fe7-72479b70c92d",
   "metadata": {},
   "outputs": [],
   "source": []
  }
 ],
 "metadata": {
  "kernelspec": {
   "display_name": "Python 3 (ipykernel)",
   "language": "python",
   "name": "python3"
  },
  "language_info": {
   "codemirror_mode": {
    "name": "ipython",
    "version": 3
   },
   "file_extension": ".py",
   "mimetype": "text/x-python",
   "name": "python",
   "nbconvert_exporter": "python",
   "pygments_lexer": "ipython3",
   "version": "3.8.11"
  }
 },
 "nbformat": 4,
 "nbformat_minor": 5
}
