{
 "cells": [
  {
   "cell_type": "code",
   "execution_count": 1,
   "id": "9c391ce5-99ac-4ba4-9ab9-f25907ae324b",
   "metadata": {},
   "outputs": [],
   "source": [
    "from tests.data_generation.stress_tests import run_evseq_stress_test"
   ]
  },
  {
   "cell_type": "markdown",
   "id": "f584a77c-3e5c-433e-a7be-b6ff7c61a390",
   "metadata": {},
   "source": [
    "This is for stress-testing the evSeq code by passing in random inputs with known expected output. We then check to see if the evSeq outputs match the expected."
   ]
  },
  {
   "cell_type": "code",
   "execution_count": 2,
   "id": "1acf97cf-cd0d-4967-a727-ae16c158a3a9",
   "metadata": {
    "tags": []
   },
   "outputs": [
    {
     "name": "stdout",
     "output_type": "stream",
     "text": [
      "Working on tests for seed 2...\n",
      "All Uncoupled tests passed for seed: 2\n",
      "All Coupled tests passed for seed: 2\n",
      "\n",
      "\n",
      "Working on tests for seed 3...\n"
     ]
    },
    {
     "ename": "KeyboardInterrupt",
     "evalue": "",
     "output_type": "error",
     "traceback": [
      "\u001b[0;31m---------------------------------------------------------------------------\u001b[0m",
      "\u001b[0;31mKeyboardInterrupt\u001b[0m                         Traceback (most recent call last)",
      "\u001b[0;32m/tmp/ipykernel_31246/2376599643.py\u001b[0m in \u001b[0;36m<module>\u001b[0;34m\u001b[0m\n\u001b[0;32m----> 1\u001b[0;31m test_run = run_evseq_stress_test(True, False, \n\u001b[0m\u001b[1;32m      2\u001b[0m                       \u001b[0mkeep_output\u001b[0m \u001b[0;34m=\u001b[0m \u001b[0;32mTrue\u001b[0m\u001b[0;34m,\u001b[0m\u001b[0;34m\u001b[0m\u001b[0;34m\u001b[0m\u001b[0m\n\u001b[1;32m      3\u001b[0m                       seed = 2)\n",
      "\u001b[0;32m~/GitRepos/evSeq/tests/data_generation/stress_tests.py\u001b[0m in \u001b[0;36mrun_evseq_stress_test\u001b[0;34m(detailed, include_nnn, keep_output, seed)\u001b[0m\n\u001b[1;32m    246\u001b[0m         \u001b[0;31m# Build a test run and the associated output files\u001b[0m\u001b[0;34m\u001b[0m\u001b[0;34m\u001b[0m\u001b[0;34m\u001b[0m\u001b[0m\n\u001b[1;32m    247\u001b[0m         \u001b[0mtest_run\u001b[0m \u001b[0;34m=\u001b[0m \u001b[0mFakeRun\u001b[0m\u001b[0;34m(\u001b[0m\u001b[0mdetailed\u001b[0m \u001b[0;34m=\u001b[0m \u001b[0mdetailed\u001b[0m\u001b[0;34m)\u001b[0m\u001b[0;34m\u001b[0m\u001b[0;34m\u001b[0m\u001b[0m\n\u001b[0;32m--> 248\u001b[0;31m         \u001b[0mtest_run\u001b[0m\u001b[0;34m.\u001b[0m\u001b[0mbuild_fastq\u001b[0m\u001b[0;34m(\u001b[0m\u001b[0;34m)\u001b[0m\u001b[0;34m\u001b[0m\u001b[0;34m\u001b[0m\u001b[0m\n\u001b[0m\u001b[1;32m    249\u001b[0m         \u001b[0mtest_run\u001b[0m\u001b[0;34m.\u001b[0m\u001b[0mbuild_refseq\u001b[0m\u001b[0;34m(\u001b[0m\u001b[0minclude_nnn\u001b[0m\u001b[0;34m)\u001b[0m\u001b[0;34m\u001b[0m\u001b[0;34m\u001b[0m\u001b[0m\n\u001b[1;32m    250\u001b[0m \u001b[0;34m\u001b[0m\u001b[0m\n",
      "\u001b[0;32m~/GitRepos/evSeq/tests/data_generation/run_generator.py\u001b[0m in \u001b[0;36mbuild_fastq\u001b[0;34m(self)\u001b[0m\n\u001b[1;32m     98\u001b[0m             \u001b[0;31m# Produce reads if this is not a dud\u001b[0m\u001b[0;34m\u001b[0m\u001b[0;34m\u001b[0m\u001b[0;34m\u001b[0m\u001b[0m\n\u001b[1;32m     99\u001b[0m             \u001b[0;32mif\u001b[0m \u001b[0;32mnot\u001b[0m \u001b[0mwell\u001b[0m\u001b[0;34m.\u001b[0m\u001b[0mdud_well\u001b[0m\u001b[0;34m:\u001b[0m\u001b[0;34m\u001b[0m\u001b[0;34m\u001b[0m\u001b[0m\n\u001b[0;32m--> 100\u001b[0;31m                 \u001b[0mf_well_reads\u001b[0m\u001b[0;34m,\u001b[0m \u001b[0mr_well_reads\u001b[0m \u001b[0;34m=\u001b[0m \u001b[0mwell\u001b[0m\u001b[0;34m.\u001b[0m\u001b[0mbuild_all_reads\u001b[0m\u001b[0;34m(\u001b[0m\u001b[0;34m)\u001b[0m\u001b[0;34m\u001b[0m\u001b[0;34m\u001b[0m\u001b[0m\n\u001b[0m\u001b[1;32m    101\u001b[0m                 \u001b[0mforward_reads\u001b[0m\u001b[0;34m.\u001b[0m\u001b[0mextend\u001b[0m\u001b[0;34m(\u001b[0m\u001b[0mf_well_reads\u001b[0m\u001b[0;34m)\u001b[0m\u001b[0;34m\u001b[0m\u001b[0;34m\u001b[0m\u001b[0m\n\u001b[1;32m    102\u001b[0m                 \u001b[0mreverse_reads\u001b[0m\u001b[0;34m.\u001b[0m\u001b[0mextend\u001b[0m\u001b[0;34m(\u001b[0m\u001b[0mr_well_reads\u001b[0m\u001b[0;34m)\u001b[0m\u001b[0;34m\u001b[0m\u001b[0;34m\u001b[0m\u001b[0m\n",
      "\u001b[0;32m~/GitRepos/evSeq/tests/data_generation/well_generator.py\u001b[0m in \u001b[0;36mbuild_all_reads\u001b[0;34m(self)\u001b[0m\n\u001b[1;32m    464\u001b[0m         \u001b[0;31m# Build perfect reads\u001b[0m\u001b[0;34m\u001b[0m\u001b[0;34m\u001b[0m\u001b[0;34m\u001b[0m\u001b[0m\n\u001b[1;32m    465\u001b[0m         \u001b[0;32mfor\u001b[0m \u001b[0mi\u001b[0m\u001b[0;34m,\u001b[0m \u001b[0mvariant\u001b[0m \u001b[0;32min\u001b[0m \u001b[0menumerate\u001b[0m\u001b[0;34m(\u001b[0m\u001b[0mself\u001b[0m\u001b[0;34m.\u001b[0m\u001b[0mvariants\u001b[0m\u001b[0;34m)\u001b[0m\u001b[0;34m:\u001b[0m\u001b[0;34m\u001b[0m\u001b[0;34m\u001b[0m\u001b[0m\n\u001b[0;32m--> 466\u001b[0;31m             \u001b[0mf_perfect\u001b[0m\u001b[0;34m,\u001b[0m \u001b[0mr_perfect\u001b[0m \u001b[0;34m=\u001b[0m \u001b[0mvariant\u001b[0m\u001b[0;34m.\u001b[0m\u001b[0mbuild_perfect_reads\u001b[0m\u001b[0;34m(\u001b[0m\u001b[0mi\u001b[0m\u001b[0;34m)\u001b[0m\u001b[0;34m\u001b[0m\u001b[0;34m\u001b[0m\u001b[0m\n\u001b[0m\u001b[1;32m    467\u001b[0m             \u001b[0mforward_reads\u001b[0m\u001b[0;34m.\u001b[0m\u001b[0mextend\u001b[0m\u001b[0;34m(\u001b[0m\u001b[0mf_perfect\u001b[0m\u001b[0;34m)\u001b[0m\u001b[0;34m\u001b[0m\u001b[0;34m\u001b[0m\u001b[0m\n\u001b[1;32m    468\u001b[0m             \u001b[0mreverse_reads\u001b[0m\u001b[0;34m.\u001b[0m\u001b[0mextend\u001b[0m\u001b[0;34m(\u001b[0m\u001b[0mr_perfect\u001b[0m\u001b[0;34m)\u001b[0m\u001b[0;34m\u001b[0m\u001b[0;34m\u001b[0m\u001b[0m\n",
      "\u001b[0;32m~/GitRepos/evSeq/tests/data_generation/variant_generator.py\u001b[0m in \u001b[0;36mbuild_perfect_reads\u001b[0;34m(self, variant_id)\u001b[0m\n\u001b[1;32m    397\u001b[0m             \u001b[0;31m# Record fastq entries\u001b[0m\u001b[0;34m\u001b[0m\u001b[0;34m\u001b[0m\u001b[0;34m\u001b[0m\u001b[0m\n\u001b[1;32m    398\u001b[0m             \u001b[0mvariant_name\u001b[0m \u001b[0;34m=\u001b[0m \u001b[0;34mf\"{self.well.platename}_{self.well.wellname}_variant{variant_id}_{i}\"\u001b[0m\u001b[0;34m\u001b[0m\u001b[0;34m\u001b[0m\u001b[0m\n\u001b[0;32m--> 399\u001b[0;31m             fastq_r1[i], fastq_r2[i] = self.well.build_fastq_entry(full_forward_bp,\n\u001b[0m\u001b[1;32m    400\u001b[0m                                                                    \u001b[0mfull_rev_bp\u001b[0m\u001b[0;34m,\u001b[0m\u001b[0;34m\u001b[0m\u001b[0;34m\u001b[0m\u001b[0m\n\u001b[1;32m    401\u001b[0m                                                                    \u001b[0mfull_forward_q\u001b[0m\u001b[0;34m,\u001b[0m\u001b[0;34m\u001b[0m\u001b[0;34m\u001b[0m\u001b[0m\n",
      "\u001b[0;32m~/GitRepos/evSeq/tests/data_generation/well_generator.py\u001b[0m in \u001b[0;36mbuild_fastq_entry\u001b[0;34m(self, full_forward_bp, full_rev_bp, full_forward_q, full_rev_q, read_id, low_q)\u001b[0m\n\u001b[1;32m    386\u001b[0m \u001b[0;34m\u001b[0m\u001b[0m\n\u001b[1;32m    387\u001b[0m         \u001b[0;31m# Get the forward and reverse readable qualities\u001b[0m\u001b[0;34m\u001b[0m\u001b[0;34m\u001b[0m\u001b[0;34m\u001b[0m\u001b[0m\n\u001b[0;32m--> 388\u001b[0;31m         \u001b[0mforward_qs\u001b[0m \u001b[0;34m=\u001b[0m \u001b[0mord_to_chr\u001b[0m\u001b[0;34m(\u001b[0m\u001b[0mfull_forward_q\u001b[0m\u001b[0;34m[\u001b[0m\u001b[0;34m:\u001b[0m\u001b[0mavailable_read_f\u001b[0m\u001b[0;34m]\u001b[0m\u001b[0;34m)\u001b[0m\u001b[0;34m\u001b[0m\u001b[0;34m\u001b[0m\u001b[0m\n\u001b[0m\u001b[1;32m    389\u001b[0m         \u001b[0mreverse_qs\u001b[0m \u001b[0;34m=\u001b[0m \u001b[0mord_to_chr\u001b[0m\u001b[0;34m(\u001b[0m\u001b[0mnp\u001b[0m\u001b[0;34m.\u001b[0m\u001b[0mflip\u001b[0m\u001b[0;34m(\u001b[0m\u001b[0mfull_rev_q\u001b[0m\u001b[0;34m)\u001b[0m\u001b[0;34m[\u001b[0m\u001b[0;34m:\u001b[0m\u001b[0mavailable_read_r\u001b[0m\u001b[0;34m]\u001b[0m\u001b[0;34m)\u001b[0m\u001b[0;34m\u001b[0m\u001b[0;34m\u001b[0m\u001b[0m\n\u001b[1;32m    390\u001b[0m \u001b[0;34m\u001b[0m\u001b[0m\n",
      "\u001b[0;32m~/GitRepos/evSeq/tests/data_generation/data_generation_utils.py\u001b[0m in \u001b[0;36mord_to_chr\u001b[0;34m(qualities)\u001b[0m\n\u001b[1;32m     22\u001b[0m \u001b[0;32mdef\u001b[0m \u001b[0mord_to_chr\u001b[0m\u001b[0;34m(\u001b[0m\u001b[0mqualities\u001b[0m\u001b[0;34m)\u001b[0m\u001b[0;34m:\u001b[0m\u001b[0;34m\u001b[0m\u001b[0;34m\u001b[0m\u001b[0m\n\u001b[1;32m     23\u001b[0m     \u001b[0mrebased_qs\u001b[0m \u001b[0;34m=\u001b[0m \u001b[0mqualities\u001b[0m \u001b[0;34m+\u001b[0m \u001b[0mQ_SCORE_BASE\u001b[0m\u001b[0;34m\u001b[0m\u001b[0;34m\u001b[0m\u001b[0m\n\u001b[0;32m---> 24\u001b[0;31m     \u001b[0;32mreturn\u001b[0m \u001b[0;34m\"\"\u001b[0m\u001b[0;34m.\u001b[0m\u001b[0mjoin\u001b[0m\u001b[0;34m(\u001b[0m\u001b[0mchr\u001b[0m\u001b[0;34m(\u001b[0m\u001b[0mqual\u001b[0m\u001b[0;34m)\u001b[0m \u001b[0;32mfor\u001b[0m \u001b[0mqual\u001b[0m \u001b[0;32min\u001b[0m \u001b[0mrebased_qs\u001b[0m\u001b[0;34m)\u001b[0m\u001b[0;34m\u001b[0m\u001b[0;34m\u001b[0m\u001b[0m\n\u001b[0m\u001b[1;32m     25\u001b[0m \u001b[0;34m\u001b[0m\u001b[0m\n\u001b[1;32m     26\u001b[0m \u001b[0;34m\u001b[0m\u001b[0m\n",
      "\u001b[0;32m~/GitRepos/evSeq/tests/data_generation/data_generation_utils.py\u001b[0m in \u001b[0;36m<genexpr>\u001b[0;34m(.0)\u001b[0m\n\u001b[1;32m     22\u001b[0m \u001b[0;32mdef\u001b[0m \u001b[0mord_to_chr\u001b[0m\u001b[0;34m(\u001b[0m\u001b[0mqualities\u001b[0m\u001b[0;34m)\u001b[0m\u001b[0;34m:\u001b[0m\u001b[0;34m\u001b[0m\u001b[0;34m\u001b[0m\u001b[0m\n\u001b[1;32m     23\u001b[0m     \u001b[0mrebased_qs\u001b[0m \u001b[0;34m=\u001b[0m \u001b[0mqualities\u001b[0m \u001b[0;34m+\u001b[0m \u001b[0mQ_SCORE_BASE\u001b[0m\u001b[0;34m\u001b[0m\u001b[0;34m\u001b[0m\u001b[0m\n\u001b[0;32m---> 24\u001b[0;31m     \u001b[0;32mreturn\u001b[0m \u001b[0;34m\"\"\u001b[0m\u001b[0;34m.\u001b[0m\u001b[0mjoin\u001b[0m\u001b[0;34m(\u001b[0m\u001b[0mchr\u001b[0m\u001b[0;34m(\u001b[0m\u001b[0mqual\u001b[0m\u001b[0;34m)\u001b[0m \u001b[0;32mfor\u001b[0m \u001b[0mqual\u001b[0m \u001b[0;32min\u001b[0m \u001b[0mrebased_qs\u001b[0m\u001b[0;34m)\u001b[0m\u001b[0;34m\u001b[0m\u001b[0;34m\u001b[0m\u001b[0m\n\u001b[0m\u001b[1;32m     25\u001b[0m \u001b[0;34m\u001b[0m\u001b[0m\n\u001b[1;32m     26\u001b[0m \u001b[0;34m\u001b[0m\u001b[0m\n",
      "\u001b[0;31mKeyboardInterrupt\u001b[0m: "
     ]
    }
   ],
   "source": [
    "test_run = run_evseq_stress_test(True, False, \n",
    "                      keep_output = True,\n",
    "                      seed = 2)"
   ]
  },
  {
   "cell_type": "code",
   "execution_count": 15,
   "id": "2cd15010-b983-4dee-9ab3-3ededd8ae97e",
   "metadata": {},
   "outputs": [
    {
     "data": {
      "text/plain": [
       "14"
      ]
     },
     "execution_count": 15,
     "metadata": {},
     "output_type": "execute_result"
    }
   ],
   "source": [
    "test_run.config.variable_count"
   ]
  },
  {
   "cell_type": "code",
   "execution_count": 14,
   "id": "900286e1-7f6d-47a9-a4c7-ab0be6cfb9ff",
   "metadata": {},
   "outputs": [
    {
     "data": {
      "text/plain": [
       "True"
      ]
     },
     "execution_count": 14,
     "metadata": {},
     "output_type": "execute_result"
    }
   ],
   "source": [
    "test_run.wells[8].global_dead"
   ]
  },
  {
   "cell_type": "code",
   "execution_count": 16,
   "id": "83613712-874b-49b2-940b-b35a5537f3b1",
   "metadata": {},
   "outputs": [
    {
     "data": {
      "text/plain": [
       "10"
      ]
     },
     "execution_count": 16,
     "metadata": {},
     "output_type": "execute_result"
    }
   ],
   "source": [
    "test_run.wells[8].n_dead_reads"
   ]
  },
  {
   "cell_type": "code",
   "execution_count": 17,
   "id": "4ca7e49e-79bc-4dfd-a61a-7c7794e0582f",
   "metadata": {},
   "outputs": [
    {
     "data": {
      "text/plain": [
       "98"
      ]
     },
     "execution_count": 17,
     "metadata": {},
     "output_type": "execute_result"
    }
   ],
   "source": [
    "test_run.wells[8].total_reads"
   ]
  },
  {
   "cell_type": "code",
   "execution_count": 18,
   "id": "f3a77545-ae3b-44aa-ab5b-83313bc2c1b7",
   "metadata": {},
   "outputs": [
    {
     "data": {
      "text/plain": [
       "[<tests.data_generation.variant_generator.FakeVariant at 0x7f1ee0403970>]"
      ]
     },
     "execution_count": 18,
     "metadata": {},
     "output_type": "execute_result"
    }
   ],
   "source": [
    "test_run.wells[8].variants"
   ]
  },
  {
   "cell_type": "code",
   "execution_count": 19,
   "id": "5ff33535-1ebc-46f6-b617-4ef19add00c4",
   "metadata": {},
   "outputs": [
    {
     "data": {
      "text/plain": [
       "98"
      ]
     },
     "execution_count": 19,
     "metadata": {},
     "output_type": "execute_result"
    }
   ],
   "source": [
    "test_run.wells[8].variants[0].total_counts"
   ]
  },
  {
   "cell_type": "code",
   "execution_count": 55,
   "id": "b0fa2e8a-7cbb-4e4b-83a3-8203bcd3c96d",
   "metadata": {},
   "outputs": [
    {
     "data": {
      "text/plain": [
       "16"
      ]
     },
     "execution_count": 57,
     "metadata": {},
     "output_type": "execute_result"
    }
   ],
   "source": [
    "test_run.config.average_q_cutoff"
   ]
  },
  {
   "cell_type": "code",
   "execution_count": 51,
   "id": "cd3afccf-9d8f-46fa-b9f7-cea0bb207320",
   "metadata": {},
   "outputs": [],
   "source": [
    "import numpy as np\n",
    "back_quals = np.concatenate((\n",
    "            test_run.wells[8].refseq.rbc_qualities,\n",
    "            test_run.wells[8].refseq.adapter_qualities_r,\n",
    "            test_run.wells[8].refseq.frameshift_back_qualities,\n",
    "            test_run.wells[8].refseq.primer_qualities_r\n",
    "        ))"
   ]
  },
  {
   "cell_type": "code",
   "execution_count": 52,
   "id": "0db74ea8-8bbd-4d3a-b3d6-9ae9a778b286",
   "metadata": {},
   "outputs": [],
   "source": [
    "available_read_r = test_run.wells[8].config.readlength - len(back_quals)"
   ]
  },
  {
   "cell_type": "code",
   "execution_count": 53,
   "id": "378dd302-a030-4108-849e-de3447c0b84e",
   "metadata": {},
   "outputs": [],
   "source": [
    "total_r_quals = np.concatenate(\n",
    "    (np.tile(back_quals, (98, 1)), np.flip(test_run.wells[8].variants[0].r_quals, axis = 1)),\n",
    "    axis = 1)"
   ]
  },
  {
   "cell_type": "code",
   "execution_count": 74,
   "id": "1e1ee377-a56c-4ece-a693-c24778138ef7",
   "metadata": {},
   "outputs": [
    {
     "data": {
      "text/plain": [
       "array([43, 52, 45, 61, 25, 84, 69, 32, 20, 19, 76, 60, 24, 59,  6, 83, 14,\n",
       "        5, 56, 28, 11, 37, 65, 44, 81, 77,  3, 72, 87, 31, 46, 35, 41, 10,\n",
       "       17, 36, 58,  8, 54, 79,  4, 86,  0, 62, 18, 38, 74,  2, 22, 13, 34,\n",
       "       70,  1, 27, 21, 42, 55, 53, 12, 26, 63, 67, 40, 78, 39, 30, 57, 15,\n",
       "       50, 68, 49, 29, 85, 71, 16, 23, 47, 33,  9, 48, 64, 80, 73, 66,  7,\n",
       "       82, 75, 51, 95, 94, 93, 92, 88, 90, 89, 96, 91, 97])"
      ]
     },
     "execution_count": 74,
     "metadata": {},
     "output_type": "execute_result"
    }
   ],
   "source": [
    "np.argsort(test_run.wells[8].variants[0].r_quals[:, -available_read_r:].mean(axis = 1))"
   ]
  },
  {
   "cell_type": "code",
   "execution_count": 75,
   "id": "dfeef58f-e982-4f81-a53c-52b61c6ba300",
   "metadata": {
    "tags": []
   },
   "outputs": [
    {
     "data": {
      "text/plain": [
       "16.22279792746114"
      ]
     },
     "execution_count": 75,
     "metadata": {},
     "output_type": "execute_result"
    }
   ],
   "source": [
    "np.mean([ord(character) - 33 for character in \"\"\"GDE@D=F:FB<8=C?<BFB8:I:DE>F:BDH;D:89D98C>FIA@888DEE;A9<E:B:D;GCA;8(,&#.$+/,&./(00%/-++*(''#-%\"0!',0**/.*,(&(!)+0'-!,',#%+0.!\"*\"0(.+)*#(.'*/&$*++.,.!-.-+%0-#!.0/.+&-$+0/.%'$)0\"%(+)-/-%)!,%./0/'#\"\"\"])"
   ]
  },
  {
   "cell_type": "markdown",
   "id": "ca06d33e-0983-4e3a-a38b-2b2f35955eb8",
   "metadata": {},
   "source": [
    "To do:\n",
    "1. Build code to test the \"max\" files coming out\n",
    "4. Add on code to test for DEAD wells."
   ]
  },
  {
   "cell_type": "code",
   "execution_count": 12,
   "id": "c19113a5-cadf-4ef3-adc0-b79e501134dc",
   "metadata": {},
   "outputs": [
    {
     "data": {
      "text/plain": [
       "array([ 1,  9, 13, 32, 35, 36, 43, 47, 95])"
      ]
     },
     "execution_count": 12,
     "metadata": {},
     "output_type": "execute_result"
    }
   ],
   "source": [
    "test_run.wells[385].variants[0].mutated_positions"
   ]
  },
  {
   "cell_type": "code",
   "execution_count": 15,
   "id": "4f8bf0e9-b805-439f-9701-d5eea9e62aca",
   "metadata": {},
   "outputs": [
    {
     "data": {
      "text/plain": [
       "True"
      ]
     },
     "execution_count": 15,
     "metadata": {},
     "output_type": "execute_result"
    }
   ],
   "source": [
    "test_run.wells[385].global_dead"
   ]
  },
  {
   "cell_type": "code",
   "execution_count": null,
   "id": "c7d27030-74cd-4a1c-a0a2-8342ea8bd12f",
   "metadata": {},
   "outputs": [],
   "source": [
    "test_run"
   ]
  },
  {
   "cell_type": "code",
   "execution_count": 4,
   "id": "2e7b26b3-de33-4365-9fea-0b3397f01115",
   "metadata": {},
   "outputs": [
    {
     "data": {
      "text/plain": [
       "dtype('int64')"
      ]
     },
     "execution_count": 4,
     "metadata": {},
     "output_type": "execute_result"
    }
   ],
   "source": [
    "import numpy as np\n",
    "np.concatenate([\n",
    "    np.array([1, 2, 3]),\n",
    "    np.array([1, 2, 3]) + 1\n",
    "]).dtype"
   ]
  },
  {
   "cell_type": "code",
   "execution_count": 5,
   "id": "07065d1c-79ff-4595-be12-55dafbf3a4fc",
   "metadata": {},
   "outputs": [
    {
     "data": {
      "text/plain": [
       "array([1, 2, 3])"
      ]
     },
     "execution_count": 5,
     "metadata": {},
     "output_type": "execute_result"
    }
   ],
   "source": [
    "test = np.array([1,2,3])\n",
    "test[-10:]"
   ]
  },
  {
   "cell_type": "code",
   "execution_count": null,
   "id": "730d9cdb-6b33-4a7d-8022-b36b2ffbdecf",
   "metadata": {},
   "outputs": [],
   "source": []
  }
 ],
 "metadata": {
  "kernelspec": {
   "display_name": "Python 3 (ipykernel)",
   "language": "python",
   "name": "python3"
  },
  "language_info": {
   "codemirror_mode": {
    "name": "ipython",
    "version": 3
   },
   "file_extension": ".py",
   "mimetype": "text/x-python",
   "name": "python",
   "nbconvert_exporter": "python",
   "pygments_lexer": "ipython3",
   "version": "3.8.11"
  }
 },
 "nbformat": 4,
 "nbformat_minor": 5
}
