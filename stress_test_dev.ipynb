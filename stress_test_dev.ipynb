{
 "cells": [
  {
   "cell_type": "markdown",
   "id": "f584a77c-3e5c-433e-a7be-b6ff7c61a390",
   "metadata": {},
   "source": [
    "This is for stress-testing the evSeq code by passing in random inputs with known expected output. We then check to see if the evSeq outputs match the expected."
   ]
  },
  {
   "cell_type": "code",
   "execution_count": 1,
   "id": "92a61bbe-0544-4983-80aa-f6b3022326cf",
   "metadata": {},
   "outputs": [],
   "source": [
    "import warnings\n",
    "import os\n",
    "import subprocess\n",
    "import pandas as pd\n",
    "import numpy as np\n",
    "import math\n",
    "import itertools\n",
    "import shutil\n",
    "import random\n",
    "from glob import glob\n",
    "\n",
    "import tests.data_generation.globals as test_glob\n",
    "\n",
    "from tests.data_generation.globals import INDEX_DF, REFSEQ_COL_NAMES, SAVELOC, DECOUPLED_AA_COL_NAMES\n",
    "\n",
    "from tests.data_generation.well_generator import FakeWell\n",
    "from tests.data_generation.config_generator import Config"
   ]
  },
  {
   "cell_type": "markdown",
   "id": "00eab1a1-9e21-4d78-8288-2d75b6dbcf0a",
   "metadata": {},
   "source": [
    "Now build the fakerun container:"
   ]
  },
  {
   "cell_type": "code",
   "execution_count": 2,
   "id": "564017aa-cf1a-47e9-9d06-78ba781f9e41",
   "metadata": {},
   "outputs": [],
   "source": [
    "# Calculates expected counts for a parent well\n",
    "def calculate_parent_counts(well):\n",
    "    \n",
    "    # Get the complete expected counts across the readable region\n",
    "    total_counts = np.zeros(well.refseq.refseq_len)\n",
    "    for variant in well.variants:\n",
    "        total_counts += variant.expected_aa_counts    \n",
    "    \n",
    "    # Get the number of codons added due to the length of the forward and\n",
    "    # reverse primers/frameshifts\n",
    "    added_len_f = well.refseq.primer_seed_len_f + well.refseq.frameshift_front\n",
    "    added_len_r = well.refseq.primer_seed_len_r + well.refseq.frameshift_back\n",
    "    n_added_codons = added_len_f // 3 + added_len_r // 3    \n",
    "        \n",
    "    # Get total counts\n",
    "    usual_counts = np.sum(total_counts[well.refseq.og_mutable])\n",
    "    added_codon_counts = n_added_codons * sum(variant.total_counts for variant in well.variants)\n",
    "    total_counts = usual_counts + added_codon_counts\n",
    "    \n",
    "    # Get the mean number of counts\n",
    "    return int(total_counts / (n_added_codons + len(well.refseq.og_mutable)))\n",
    "\n",
    "def check_well_is_parent(well, all_mutated_positions, nnn_positions):\n",
    "    \n",
    "    # If there are nnn positions, this cannot be a parent seq\n",
    "    if len(nnn_positions) > 0:\n",
    "        return False\n",
    "    \n",
    "    # If there are no mutated positions, this is a parent well\n",
    "    if len(all_mutated_positions) == 0:\n",
    "        return True\n",
    "        \n",
    "    # Get the reference sequence for the variants\n",
    "    parent_seq = well.refseq.aa_refseq\n",
    "\n",
    "    # Loop over all variants and check to see if all mutated\n",
    "    # positions match the parent\n",
    "    parent_checks = [all(variant.base_mut_aa_seq[pos] == parent_seq[pos]\n",
    "                         for pos in all_mutated_positions)\n",
    "                    for variant in well.variants]\n",
    "    \n",
    "    # If all variants are parent, this is a parent well\n",
    "    if all(parent_checks):\n",
    "        return True\n",
    "    \n",
    "    # Not a parent if nothing else was triggered\n",
    "    return False    \n",
    "\n",
    "# Class that holds information for a test run\n",
    "class FakeRun():\n",
    "    def __init__(self, detailed = True):\n",
    "        \"\"\"\n",
    "        fakewells: A list of fully prepared FakeWell objects.\n",
    "        detailed: Whether or not we are using a detailed refseq file. \n",
    "        \"\"\"\n",
    "        # Store instance variables\n",
    "        self.detailed = detailed\n",
    "        \n",
    "        # Set a random configuration\n",
    "        self.config = Config(detailed = detailed)\n",
    "        \n",
    "        # Build wells\n",
    "        self._build_wells()\n",
    "        \n",
    "    def build_fastq(self):\n",
    "        \n",
    "        # Loop over all wells. Generate reads\n",
    "        forward_reads = []\n",
    "        reverse_reads = []\n",
    "        for well in self.wells:\n",
    "            \n",
    "            # Produce reads if this is not a dud\n",
    "            if not well.dud_well:\n",
    "                f_well_reads, r_well_reads = well.build_all_reads()\n",
    "                forward_reads.extend(f_well_reads)\n",
    "                reverse_reads.extend(r_well_reads)\n",
    "        \n",
    "        # Return the fastq files ready for processing\n",
    "        with open(self.r1_saveloc, \"w\") as f:\n",
    "            f.write(\"\\n\".join(forward_reads))\n",
    "        with open(self.r2_saveloc, \"w\") as f:\n",
    "            f.write(\"\\n\".join(reverse_reads))\n",
    "            \n",
    "    def build_refseq(self, include_nnn):\n",
    "        \n",
    "        # Record the latest status of including NNN\n",
    "        self.include_nnn = include_nnn\n",
    "        \n",
    "        # Loop over all wells. Only consider the first well of each\n",
    "        # plate if not using detailed refseqs. Otherwise, consider\n",
    "        # all wells\n",
    "        n_refs = len(self.config.refseqs)\n",
    "        observed_plates = set()\n",
    "        refseq_output = [None] * n_refs\n",
    "        counter = 0\n",
    "        for well in self.wells:\n",
    "                        \n",
    "            # Create an entry for all wells if we are running in detailed mode\n",
    "            # or if we have not observed the plate before\n",
    "            if self.detailed or (well.platename not in observed_plates):\n",
    "                \n",
    "                # Add to the output\n",
    "                refseq_output[counter] = well.build_refseq_entry(include_nnn)\n",
    "                \n",
    "                # Increment the counter and record the observed plate\n",
    "                observed_plates.add(well.platename)\n",
    "                counter += 1\n",
    "        \n",
    "        # Create a dataframe of the entries\n",
    "        refseq_df = pd.DataFrame(refseq_output,\n",
    "                                 columns = REFSEQ_COL_NAMES)\n",
    "        \n",
    "        # Sort the dataframe to be plate then row\n",
    "        refseq_df.sort_values(by = [REFSEQ_COL_NAMES[1], \n",
    "                                    REFSEQ_COL_NAMES[2]],\n",
    "                              inplace = True)\n",
    "        \n",
    "        # Drop the well column if this is not detailed\n",
    "        if not self.detailed:\n",
    "            refseq_df.drop(columns = [\"Well\"], inplace = True)\n",
    "        \n",
    "        # Save df \n",
    "        refseq_df.to_csv(self.refseq_saveloc, index = False)\n",
    "        \n",
    "    def _build_wells(self):\n",
    "        \n",
    "        # Build wells\n",
    "        self.wells = [None] * len(INDEX_DF)\n",
    "        unique_plates_found = set()\n",
    "        refseq_counter = -1\n",
    "        for i, row in enumerate(INDEX_DF.itertuples()):\n",
    "            \n",
    "            # Add only if detailed or we have not seen the plate before\n",
    "            if self.detailed or (row.IndexPlate not in unique_plates_found):\n",
    "                refseq_counter += 1\n",
    "                unique_plates_found.add(row.IndexPlate)\n",
    "        \n",
    "            # Create a new well\n",
    "            well = FakeWell(self.config,\n",
    "                            self.config.refseqs[refseq_counter])\n",
    "            \n",
    "            # Assign information to the well\n",
    "            well.platename = row.IndexPlate\n",
    "            well.wellname = row.Well\n",
    "            well.f_barcode = row.FBC\n",
    "            well.r_barcode = row.RBC\n",
    "            \n",
    "            # Record\n",
    "            self.wells[i] = well\n",
    "            \n",
    "    def build_output_counts(self):\n",
    "        \"\"\"\n",
    "        Builds output files for the different `OutputCounts`\n",
    "        \"\"\"\n",
    "        pass\n",
    "    \n",
    "    def run_evseq(self):\n",
    "        \"\"\"\n",
    "        Wraps the evSeq command line interface to run the program with\n",
    "        the provided fastq and refseq files\n",
    "        \"\"\"\n",
    "        # Write the command for the subprocess. We save all outputs as this \n",
    "        # is for debugging\n",
    "        command = [\n",
    "            \"evSeq\",\n",
    "            self.refseq_saveloc,\n",
    "            SAVELOC,\n",
    "            \"--output\", SAVELOC,\n",
    "            \"--return_alignments\",\n",
    "            \"--keep_parsed_fastqs\",\n",
    "            \"--average_q_cutoff\", str(self.config.average_q_cutoff),\n",
    "            \"--bp_q_cutoff\", str(self.config.bp_q_cutoff),\n",
    "            \"--length_cutoff\", str(self.config.length_cutoff),\n",
    "            \"--variable_thresh\", str(self.config.variable_thresh),\n",
    "            \"--variable_count\", str(self.config.variable_count)\n",
    "        ]\n",
    "        \n",
    "        # Add a flag for whether this is a detailed run or not\n",
    "        if self.detailed:\n",
    "            command.append(\"--detailed_refseq\")\n",
    "            \n",
    "        # Run the command. Fail if errors are thrown.\n",
    "        with open(self.test_stdout,\"wb\") as out, open(self.test_stderr,\"wb\") as err:      \n",
    "            subprocess.run(command, \n",
    "                           check = True,\n",
    "                           stdout = out,\n",
    "                           stderr = err)\n",
    "            \n",
    "    def gather_expected_positions(self):\n",
    "\n",
    "        # Extract positions we expect to be variable. This is given by the \"NNN\" \n",
    "        # sequence. If we are running a detailed test with NNN, then this is new for every\n",
    "        # sequence; if not detailed, it is the refseq of the first sequence. If we are\n",
    "        # not including NNN, then there is no expected variation\n",
    "        if self.include_nnn:\n",
    "            if self.detailed:\n",
    "                expected_nnn_positions = {(well.platename, well.wellname): set(well.variants[0].mutated_positions)\n",
    "                                          if not well.dud_well else set() for well in self.wells }\n",
    "            else:\n",
    "                expected_nnn_positions = {well.platename: set(well.variants[0].mutated_positions)\n",
    "                                          if not well.dud_well and well.wellname == \"A01\"\n",
    "                                          else set()\n",
    "                                          for well in self.wells if well.wellname == \"A01\"}        \n",
    "        else:\n",
    "            if self.detailed:\n",
    "                expected_nnn_positions = {(well.platename, well.wellname): set() for well in self.wells}\n",
    "            else:\n",
    "                expected_nnn_positions = {well.platename: set() for well in self.wells}\n",
    "\n",
    "        # Extract all other positions where we added variability.\n",
    "        expected_mut_positions = {}\n",
    "        for well in self.wells:\n",
    "\n",
    "            # Skip dud wells\n",
    "            if well.dud_well:\n",
    "                continue\n",
    "\n",
    "            # Get all the mutated positions\n",
    "            all_expected = set(np.concatenate([variant.mutated_positions for\n",
    "                                               variant in well.variants]))\n",
    "\n",
    "            # Get the nnn positions for the well\n",
    "            platewell_key = (well.platename, well.wellname)\n",
    "            nnn_key = platewell_key if self.detailed else well.platename\n",
    "            well_nnn_pos = expected_nnn_positions[nnn_key] if self.include_nnn else set()\n",
    "\n",
    "            # Record all positions that are not already captured by \"nnn\"\n",
    "            expected_mut_positions[platewell_key] = all_expected - well_nnn_pos\n",
    "            \n",
    "        return expected_nnn_positions, expected_mut_positions\n",
    "    \n",
    "    def build_expected_decoupled_aa(self):\n",
    "    \n",
    "        # Get the expected mutated positions\n",
    "        expected_nnn_positions, expected_mut_positions = self.gather_expected_positions()    \n",
    "\n",
    "        # Create a list for storing expected results\n",
    "        expected_decoupled_aa = []\n",
    "\n",
    "        # Loop over all wells\n",
    "        for well in self.wells:\n",
    "\n",
    "            # Skip dud wells\n",
    "            if well.dud_well:\n",
    "                continue\n",
    "\n",
    "            # Gather expected mutation positions\n",
    "            mut_key = (well.platename, well.wellname)\n",
    "            nnn_key = mut_key if self.detailed else well.platename\n",
    "            nnn_positions = expected_nnn_positions[nnn_key]\n",
    "            mut_positions = expected_mut_positions[mut_key]\n",
    "            all_positions = nnn_positions | mut_positions\n",
    "            \n",
    "            # If there are no positions OR the positions all give\n",
    "            # the parent amino acid, this is a parent well\n",
    "            if check_well_is_parent(well, all_positions, nnn_positions):\n",
    "                    \n",
    "                # Record results\n",
    "                expected_decoupled_aa.extend([[\n",
    "                    well.platename,\n",
    "                    well.platenickname,\n",
    "                    well.wellname,\n",
    "                    \"#PARENT#\",\n",
    "                    \"#PARENT#\",\n",
    "                    1.0, # We expect 100% alignment frequency given how we wrote the test code\n",
    "                    calculate_parent_counts(well),\n",
    "                    \"#PARENT#\",                    \n",
    "                ]])\n",
    "                continue\n",
    "\n",
    "            # Loop over all positions and variants. For each mutated position, record the \n",
    "            # counts, the AA identity, the position, and any flags.\n",
    "            n_variants = len(well.variants)\n",
    "            for pos in all_positions:\n",
    "\n",
    "                # Create output containers\n",
    "                aa_to_count = {}\n",
    "\n",
    "                # Determine position-uniform traits\n",
    "                new_aa_pos = well.refseq.aa_ind_start + pos\n",
    "                flag = \"Unexpected Variation\" if pos not in nnn_positions else np.nan\n",
    "\n",
    "                # Loop over all variants\n",
    "                for variant_ind, variant in enumerate(well.variants):\n",
    "\n",
    "                    # Gather the AA id at the mutated position along with the expected \n",
    "                    # counts\n",
    "                    mut_aa = variant.base_mut_aa_seq[pos]\n",
    "                    if mut_aa not in aa_to_count:\n",
    "                        aa_to_count[mut_aa] = variant.expected_aa_counts[pos]\n",
    "                    else:\n",
    "                        aa_to_count[mut_aa] += variant.expected_aa_counts[pos]\n",
    "\n",
    "                # Get the frequency of all counts\n",
    "                total_count = sum(aa_to_count.values())\n",
    "\n",
    "                # If the only aa is the same as the parent and this is not a \"NNN\"\n",
    "                # position, continue. There is no entry as evSeq will not find it.\n",
    "                if (\n",
    "                    (len(aa_to_count) == 1) and\n",
    "                    (pos not in nnn_positions) and\n",
    "                    (mut_aa == well.refseq.aa_refseq[pos])\n",
    "                ):\n",
    "                    continue\n",
    "\n",
    "                # Record results\n",
    "                position_res = [\n",
    "                    [\n",
    "                        well.platename,\n",
    "                        well.platenickname,\n",
    "                        well.wellname,\n",
    "                        str(new_aa_pos),\n",
    "                        aa,\n",
    "                        spec_count / total_count,\n",
    "                        total_count,\n",
    "                        flag\n",
    "                    ]\n",
    "                    for aa, spec_count in aa_to_count.items()\n",
    "                ]\n",
    "                expected_decoupled_aa.extend(position_res)\n",
    "                \n",
    "        # Format the output\n",
    "        expected_aa_df = pd.DataFrame(expected_decoupled_aa,\n",
    "                                      columns = DECOUPLED_AA_COL_NAMES)\n",
    "\n",
    "        # Sort results\n",
    "        expected_aa_df.sort_values(by = [\"IndexPlate\", \"Well\", \"AaPosition\", \"Aa\"],\n",
    "                                  inplace = True)\n",
    "\n",
    "        return expected_aa_df\n",
    "\n",
    "    @property\n",
    "    def refseq_saveloc(self):\n",
    "        return os.path.join(SAVELOC, \"testinput_refseq.csv\")\n",
    "    \n",
    "    @property\n",
    "    def r1_saveloc(self):\n",
    "        return os.path.join(SAVELOC, \"testinput_R1_allreads.fastq\")\n",
    "    \n",
    "    @property\n",
    "    def r2_saveloc(self):\n",
    "        return os.path.join(SAVELOC, \"testinput_R2_allreads.fastq\")\n",
    "    \n",
    "    @property\n",
    "    def test_stdout(self):\n",
    "        return os.path.join(SAVELOC, \"test_stdout.txt\")\n",
    "    \n",
    "    @property\n",
    "    def test_stderr(self):\n",
    "        return os.path.join(SAVELOC, \"test_stderr.txt\")"
   ]
  },
  {
   "cell_type": "code",
   "execution_count": 3,
   "id": "3c2ecfcf-6837-4d19-8199-fd68503ad5d6",
   "metadata": {},
   "outputs": [],
   "source": [
    "def test_decoupled_aa(expected_out, true_out):\n",
    "        \n",
    "    # Go row by row and make sure the two dataframe align\n",
    "    for expected_row, true_row in itertools.zip_longest(expected_out.itertuples(index = False),\n",
    "                                                        true_out.itertuples(index = False)):\n",
    "\n",
    "        # Convert to dicts\n",
    "        expected_row = expected_row._asdict()\n",
    "        true_row = true_row._asdict()\n",
    "\n",
    "        # Check if the rows are equal.\n",
    "        row_passes = True\n",
    "        for key, true_val in true_row.items():\n",
    "\n",
    "            # Get the expected value\n",
    "            expected_val = expected_row[key]\n",
    "\n",
    "            # Special cases \n",
    "            if key == \"AlignmentFrequency\":\n",
    "                is_equiv = (np.isclose(true_val, expected_val))\n",
    "            elif key == \"Flags\" and (true_val is np.nan):\n",
    "                is_equiv = (true_val is expected_val)\n",
    "            elif key == \"AaPosition\":\n",
    "                is_equiv = (str(true_val) == str(expected_val))\n",
    "            else:\n",
    "                is_equiv = (true_val == expected_val)\n",
    "\n",
    "            # Break the loop if the true and expected values are not equivalent\n",
    "            if not is_equiv:\n",
    "                row_passes = False\n",
    "                break\n",
    "\n",
    "        # Break the loop if the rows are not equivalent\n",
    "        if not row_passes:\n",
    "            print(\"FAILURE FOUND\")\n",
    "            return False, expected_out, true_out, expected_row, true_row\n",
    "\n",
    "    # If we get to this point and row passes, we are successful\n",
    "    if row_passes:\n",
    "        print(\"SUCCESS!!!!\")\n",
    "        return True, expected_out, true_out, expected_row, true_row"
   ]
  },
  {
   "cell_type": "code",
   "execution_count": 4,
   "id": "18271d40-414c-44aa-ad47-a8707410470e",
   "metadata": {},
   "outputs": [],
   "source": [
    "def run_evseq_stress_test(detailed, include_nnn):\n",
    "    \n",
    "    # Run until we break something\n",
    "    counter = -1\n",
    "    while True:\n",
    "        \n",
    "        # Update the counter\n",
    "        counter += 1\n",
    "        \n",
    "        # Update the global RNG to match the counter (for reproducbility)\n",
    "        test_glob.RANDOM_SEED = counter\n",
    "        test_glob.NP_RNG = np.random.default_rng(counter)\n",
    "        test_glob.RANDOM_RNG = random.Random(counter)\n",
    "    \n",
    "        # Build a test run and the associated output files\n",
    "        test_run = FakeRun(detailed = detailed)\n",
    "        test_run.build_fastq()\n",
    "        test_run.build_refseq(include_nnn)\n",
    "\n",
    "        # Run evSeq on the generated data\n",
    "        test_run.run_evseq()\n",
    "\n",
    "        # Get the expected outputs\n",
    "        expected_out = test_run.build_expected_decoupled_aa()\n",
    "\n",
    "        # Get the true outputs. Sort the true output in the same\n",
    "        # way the expected was sorted.\n",
    "        most_recent_run_path = sorted(glob(os.path.join(SAVELOC, \"evSeqOutput\", \"*\")))[-1]\n",
    "        true_out = pd.read_csv(os.path.join(most_recent_run_path, \"OutputCounts\", \n",
    "                                            \"AminoAcids_Decoupled_All.csv\"))\n",
    "        true_out.sort_values(by = [\"IndexPlate\", \"Well\", \"AaPosition\", \"Aa\"],\n",
    "                             inplace = True)\n",
    "\n",
    "        # Test the two dataframes to make sure they agree\n",
    "        test_output = test_decoupled_aa(expected_out, true_out)\n",
    "        \n",
    "        # If we pass, delete all constructed data (saves on memory)\n",
    "        if test_output[0]:\n",
    "            shutil.rmtree(most_recent_run_path)            \n",
    "        \n",
    "        # Break the loop if we don't pass. Return the test run\n",
    "        else:\n",
    "            return test_run, *test_output, counter"
   ]
  },
  {
   "cell_type": "code",
   "execution_count": 5,
   "id": "1acf97cf-cd0d-4967-a727-ae16c158a3a9",
   "metadata": {},
   "outputs": [
    {
     "name": "stdout",
     "output_type": "stream",
     "text": [
      "SUCCESS!!!!\n",
      "SUCCESS!!!!\n",
      "SUCCESS!!!!\n",
      "SUCCESS!!!!\n",
      "SUCCESS!!!!\n",
      "FAILURE FOUND\n"
     ]
    }
   ],
   "source": [
    "broken_run = run_evseq_stress_test(False, False)"
   ]
  },
  {
   "cell_type": "markdown",
   "id": "97101d2e-fbf9-4c25-a398-c9b2007a7266",
   "metadata": {},
   "source": [
    "To do:\n",
    "1. Write code that will allow continuation past a failure. Just record the well that is the problem and pull all alignments, counts, etc. for it."
   ]
  },
  {
   "cell_type": "code",
   "execution_count": 6,
   "id": "ae6bb56d-913b-4be4-b616-c249d62b11e3",
   "metadata": {},
   "outputs": [
    {
     "data": {
      "text/plain": [
       "0.20973973040727345"
      ]
     },
     "execution_count": 6,
     "metadata": {},
     "output_type": "execute_result"
    }
   ],
   "source": [
    "broken_run[0].config.length_cutoff"
   ]
  },
  {
   "cell_type": "code",
   "execution_count": 7,
   "id": "e3b3debd-6368-433f-939e-5a581cec6a35",
   "metadata": {},
   "outputs": [
    {
     "data": {
      "text/plain": [
       "20"
      ]
     },
     "execution_count": 7,
     "metadata": {},
     "output_type": "execute_result"
    }
   ],
   "source": [
    "broken_run[0].config.average_q_cutoff"
   ]
  },
  {
   "cell_type": "code",
   "execution_count": 8,
   "id": "8fcc81d1-9a42-4733-adc5-01978de48417",
   "metadata": {},
   "outputs": [
    {
     "data": {
      "text/plain": [
       "{'IndexPlate': 'DI02',\n",
       " 'Plate': 'TestPlate02',\n",
       " 'Well': 'E04',\n",
       " 'AaPosition': '1383',\n",
       " 'Aa': 'A',\n",
       " 'AlignmentFrequency': 0.3050847457627119,\n",
       " 'WellSeqDepth': 59,\n",
       " 'Flags': 'Unexpected Variation'}"
      ]
     },
     "execution_count": 8,
     "metadata": {},
     "output_type": "execute_result"
    }
   ],
   "source": [
    "broken_run[-3]"
   ]
  },
  {
   "cell_type": "code",
   "execution_count": 9,
   "id": "e7ed966c-0173-4fbe-992c-1483ec4dff21",
   "metadata": {},
   "outputs": [
    {
     "data": {
      "text/plain": [
       "{'IndexPlate': 'DI02',\n",
       " 'Plate': 'TestPlate02',\n",
       " 'Well': 'E04',\n",
       " 'AaPosition': '1383',\n",
       " 'Aa': 'A',\n",
       " 'AlignmentFrequency': 0.4186046511627907,\n",
       " 'WellSeqDepth': 43,\n",
       " 'Flags': 'Unexpected Variation'}"
      ]
     },
     "execution_count": 9,
     "metadata": {},
     "output_type": "execute_result"
    }
   ],
   "source": [
    "broken_run[-2]"
   ]
  },
  {
   "cell_type": "code",
   "execution_count": 12,
   "id": "54c0f248-a645-489b-a602-96da40649c97",
   "metadata": {},
   "outputs": [
    {
     "data": {
      "text/plain": [
       "29.298969072164947"
      ]
     },
     "execution_count": 12,
     "metadata": {},
     "output_type": "execute_result"
    }
   ],
   "source": [
    "np.mean([ord(char) - 33 for char in  \"\"\"H7;<8>;<E@B<H@CHH5HGA;97<@HH:88@>GH?G5BEIC8A?8CA5FAE585<D>88D:95<AE=9?=:C778@=H>:><E<HCG@C88H>F665;D9>EI>7CCF>D<D=?8=C<@65AI77E>7=<<C7I;I@GC@BG597;:I5G>=55>8@678E=58<6@E>E8<AFIE?86;=G<>E:8@B:7>@\"\"\"])"
   ]
  },
  {
   "cell_type": "code",
   "execution_count": 13,
   "id": "5192d8e1-1fc4-4a2b-8663-f4cebdb4e849",
   "metadata": {},
   "outputs": [
    {
     "data": {
      "text/plain": [
       "194"
      ]
     },
     "execution_count": 13,
     "metadata": {},
     "output_type": "execute_result"
    }
   ],
   "source": [
    "len(\"GTTGGAGCACCCAAGACCACTCTCCGGATACTGGCCGCTGCGGCCGTATAAAAGGGATAATTGACATAGGGAGGATCTTTGTGCATGTGTGTGACCGTTCGACACAAAATACGGCGCGCGCCCAGGGGCTATTATCTTGTAATTATGGATCCTAAATCTACGTTGGACTCGAACGCGAATACGACCCAGCCTAA\")"
   ]
  },
  {
   "cell_type": "code",
   "execution_count": 16,
   "id": "601d99e9-3ffa-4673-bf26-9d6867d0111d",
   "metadata": {},
   "outputs": [
    {
     "data": {
      "text/plain": [
       "183.6"
      ]
     },
     "execution_count": 16,
     "metadata": {},
     "output_type": "execute_result"
    }
   ],
   "source": [
    "broken_run[0].config.readlength * 0.9"
   ]
  },
  {
   "cell_type": "code",
   "execution_count": 8,
   "id": "957da155-1d67-4082-b6ee-36fc1f7f9491",
   "metadata": {},
   "outputs": [
    {
     "data": {
      "text/plain": [
       "{'IndexPlate': 'DI01',\n",
       " 'Plate': 'TestPlate01',\n",
       " 'Well': 'C07',\n",
       " 'AaPosition': '7961',\n",
       " 'Aa': 'I',\n",
       " 'AlignmentFrequency': 0.8181818181818182,\n",
       " 'WellSeqDepth': 154,\n",
       " 'Flags': 'Unexpected Variation'}"
      ]
     },
     "execution_count": 8,
     "metadata": {},
     "output_type": "execute_result"
    }
   ],
   "source": [
    "broken_run[-3]"
   ]
  },
  {
   "cell_type": "code",
   "execution_count": 9,
   "id": "fd863545-31a8-4f5b-9cf8-200ca45d4e81",
   "metadata": {},
   "outputs": [
    {
     "data": {
      "text/plain": [
       "{'IndexPlate': 'DI01',\n",
       " 'Plate': 'TestPlate01',\n",
       " 'Well': 'C07',\n",
       " 'AaPosition': '7961',\n",
       " 'Aa': 'I',\n",
       " 'AlignmentFrequency': 0.8181818181818182,\n",
       " 'WellSeqDepth': 77,\n",
       " 'Flags': 'No usable forward alignments. -- Unexpected Variation'}"
      ]
     },
     "execution_count": 9,
     "metadata": {},
     "output_type": "execute_result"
    }
   ],
   "source": [
    "broken_run[-2]"
   ]
  },
  {
   "cell_type": "code",
   "execution_count": 13,
   "id": "77b08928-62e6-4ccc-827c-1f5531a94dbe",
   "metadata": {},
   "outputs": [
    {
     "data": {
      "text/plain": [
       "array([[33, 32, 30, ..., 25, 33, 35],\n",
       "       [33, 32, 30, ..., 25, 33, 35],\n",
       "       [33, 32, 30, ..., 25, 33, 35],\n",
       "       ...,\n",
       "       [33, 32, 30, ..., 25, 33, 35],\n",
       "       [33, 32, 30, ..., 25, 33, 35],\n",
       "       [33, 32, 30, ..., 25, 33, 35]])"
      ]
     },
     "execution_count": 13,
     "metadata": {},
     "output_type": "execute_result"
    }
   ],
   "source": [
    "broken_run[0].wells[46].variants[0].f_quals"
   ]
  },
  {
   "cell_type": "code",
   "execution_count": 14,
   "id": "779c2fcf-db7a-4c46-b8d1-59ac1ff1bb53",
   "metadata": {},
   "outputs": [
    {
     "data": {
      "text/plain": [
       "19"
      ]
     },
     "execution_count": 14,
     "metadata": {},
     "output_type": "execute_result"
    }
   ],
   "source": [
    "broken_run[0].wells[44].variants[1].total_counts"
   ]
  },
  {
   "cell_type": "code",
   "execution_count": null,
   "id": "aa5227b4-613c-42ee-8812-956996c16b05",
   "metadata": {},
   "outputs": [],
   "source": [
    "broken_run"
   ]
  }
 ],
 "metadata": {
  "kernelspec": {
   "display_name": "Python 3 (ipykernel)",
   "language": "python",
   "name": "python3"
  },
  "language_info": {
   "codemirror_mode": {
    "name": "ipython",
    "version": 3
   },
   "file_extension": ".py",
   "mimetype": "text/x-python",
   "name": "python",
   "nbconvert_exporter": "python",
   "pygments_lexer": "ipython3",
   "version": "3.8.11"
  }
 },
 "nbformat": 4,
 "nbformat_minor": 5
}
