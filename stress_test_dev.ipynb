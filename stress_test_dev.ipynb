{
 "cells": [
  {
   "cell_type": "code",
   "execution_count": 4,
   "id": "9c391ce5-99ac-4ba4-9ab9-f25907ae324b",
   "metadata": {},
   "outputs": [],
   "source": [
    "import tests.data_generation.globals as test_glob\n",
    "from tests.data_generation.globals import SAVELOC\n",
    "from tests.data_generation.run_generator import FakeRun\n",
    "from tests.data_generation.stress_tests import test_decoupled_aa\n",
    "\n",
    "import os\n",
    "import random\n",
    "import numpy as np\n",
    "import pandas as pd\n",
    "from glob import glob"
   ]
  },
  {
   "cell_type": "markdown",
   "id": "f584a77c-3e5c-433e-a7be-b6ff7c61a390",
   "metadata": {},
   "source": [
    "This is for stress-testing the evSeq code by passing in random inputs with known expected output. We then check to see if the evSeq outputs match the expected."
   ]
  },
  {
   "cell_type": "code",
   "execution_count": 5,
   "id": "18271d40-414c-44aa-ad47-a8707410470e",
   "metadata": {},
   "outputs": [],
   "source": [
    "def run_evseq_stress_test(detailed, include_nnn):\n",
    "    \n",
    "    # Run until we break something\n",
    "    counter = -1\n",
    "    while True:\n",
    "        \n",
    "        # Update the counter\n",
    "        counter += 1\n",
    "        \n",
    "        # Update the global RNG to match the counter (for reproducbility)\n",
    "        test_glob.RANDOM_SEED = counter\n",
    "        test_glob.NP_RNG = np.random.default_rng(counter)\n",
    "        test_glob.RANDOM_RNG = random.Random(counter)\n",
    "    \n",
    "        # Build a test run and the associated output files\n",
    "        test_run = FakeRun(detailed = detailed)\n",
    "        test_run.build_fastq()\n",
    "        test_run.build_refseq(include_nnn)\n",
    "\n",
    "        # Run evSeq on the generated data\n",
    "#         test_run.run_evseq()\n",
    "\n",
    "        # Get the expected outputs\n",
    "        expected_out = test_run.build_expected_aa()\n",
    "\n",
    "        # Get the true outputs. Sort the true output in the same\n",
    "        # way the expected was sorted.\n",
    "        most_recent_run_path = sorted(glob(os.path.join(SAVELOC, \"evSeqOutput\", \"*\")))[-1]\n",
    "        true_out = pd.read_csv(os.path.join(most_recent_run_path, \"OutputCounts\", \n",
    "                                            \"AminoAcids_Decoupled_All.csv\"))\n",
    "        true_out.sort_values(by = [\"IndexPlate\", \"Well\", \"AaPosition\", \"Aa\"],\n",
    "                             inplace = True)\n",
    "\n",
    "        # Test the two dataframes to make sure they agree\n",
    "        test_output = test_decoupled_aa(expected_out, true_out)\n",
    "        \n",
    "        # If we pass, delete all constructed data (saves on memory)\n",
    "        if test_output[0]:\n",
    "            shutil.rmtree(most_recent_run_path)            \n",
    "        \n",
    "        # Break the loop if we don't pass. Return the test run\n",
    "        else:\n",
    "            return test_run, *test_output, counter"
   ]
  },
  {
   "cell_type": "code",
   "execution_count": 6,
   "id": "1acf97cf-cd0d-4967-a727-ae16c158a3a9",
   "metadata": {},
   "outputs": [
    {
     "name": "stdout",
     "output_type": "stream",
     "text": [
      "FAILURE FOUND\n"
     ]
    }
   ],
   "source": [
    "broken_run = run_evseq_stress_test(False, False)"
   ]
  },
  {
   "cell_type": "markdown",
   "id": "97101d2e-fbf9-4c25-a398-c9b2007a7266",
   "metadata": {},
   "source": [
    "To do:\n",
    "1. Write code that will allow continuation past a failure. Just record the well that is the problem and pull all alignments, counts, etc. for it."
   ]
  },
  {
   "cell_type": "code",
   "execution_count": 6,
   "id": "ae6bb56d-913b-4be4-b616-c249d62b11e3",
   "metadata": {},
   "outputs": [
    {
     "data": {
      "text/plain": [
       "0.20973973040727345"
      ]
     },
     "execution_count": 6,
     "metadata": {},
     "output_type": "execute_result"
    }
   ],
   "source": [
    "broken_run[0].config.length_cutoff"
   ]
  },
  {
   "cell_type": "code",
   "execution_count": 7,
   "id": "e3b3debd-6368-433f-939e-5a581cec6a35",
   "metadata": {},
   "outputs": [
    {
     "data": {
      "text/plain": [
       "20"
      ]
     },
     "execution_count": 7,
     "metadata": {},
     "output_type": "execute_result"
    }
   ],
   "source": [
    "broken_run[0].config.average_q_cutoff"
   ]
  },
  {
   "cell_type": "code",
   "execution_count": 8,
   "id": "8fcc81d1-9a42-4733-adc5-01978de48417",
   "metadata": {},
   "outputs": [
    {
     "data": {
      "text/plain": [
       "{'IndexPlate': 'DI02',\n",
       " 'Plate': 'TestPlate02',\n",
       " 'Well': 'E04',\n",
       " 'AaPosition': '1383',\n",
       " 'Aa': 'A',\n",
       " 'AlignmentFrequency': 0.3050847457627119,\n",
       " 'WellSeqDepth': 59,\n",
       " 'Flags': 'Unexpected Variation'}"
      ]
     },
     "execution_count": 8,
     "metadata": {},
     "output_type": "execute_result"
    }
   ],
   "source": [
    "broken_run[-3]"
   ]
  },
  {
   "cell_type": "code",
   "execution_count": 9,
   "id": "e7ed966c-0173-4fbe-992c-1483ec4dff21",
   "metadata": {},
   "outputs": [
    {
     "data": {
      "text/plain": [
       "{'IndexPlate': 'DI02',\n",
       " 'Plate': 'TestPlate02',\n",
       " 'Well': 'E04',\n",
       " 'AaPosition': '1383',\n",
       " 'Aa': 'A',\n",
       " 'AlignmentFrequency': 0.4186046511627907,\n",
       " 'WellSeqDepth': 43,\n",
       " 'Flags': 'Unexpected Variation'}"
      ]
     },
     "execution_count": 9,
     "metadata": {},
     "output_type": "execute_result"
    }
   ],
   "source": [
    "broken_run[-2]"
   ]
  },
  {
   "cell_type": "code",
   "execution_count": 12,
   "id": "54c0f248-a645-489b-a602-96da40649c97",
   "metadata": {},
   "outputs": [
    {
     "data": {
      "text/plain": [
       "29.298969072164947"
      ]
     },
     "execution_count": 12,
     "metadata": {},
     "output_type": "execute_result"
    }
   ],
   "source": [
    "np.mean([ord(char) - 33 for char in  \"\"\"H7;<8>;<E@B<H@CHH5HGA;97<@HH:88@>GH?G5BEIC8A?8CA5FAE585<D>88D:95<AE=9?=:C778@=H>:><E<HCG@C88H>F665;D9>EI>7CCF>D<D=?8=C<@65AI77E>7=<<C7I;I@GC@BG597;:I5G>=55>8@678E=58<6@E>E8<AFIE?86;=G<>E:8@B:7>@\"\"\"])"
   ]
  },
  {
   "cell_type": "code",
   "execution_count": 13,
   "id": "5192d8e1-1fc4-4a2b-8663-f4cebdb4e849",
   "metadata": {},
   "outputs": [
    {
     "data": {
      "text/plain": [
       "194"
      ]
     },
     "execution_count": 13,
     "metadata": {},
     "output_type": "execute_result"
    }
   ],
   "source": [
    "len(\"GTTGGAGCACCCAAGACCACTCTCCGGATACTGGCCGCTGCGGCCGTATAAAAGGGATAATTGACATAGGGAGGATCTTTGTGCATGTGTGTGACCGTTCGACACAAAATACGGCGCGCGCCCAGGGGCTATTATCTTGTAATTATGGATCCTAAATCTACGTTGGACTCGAACGCGAATACGACCCAGCCTAA\")"
   ]
  },
  {
   "cell_type": "code",
   "execution_count": 16,
   "id": "601d99e9-3ffa-4673-bf26-9d6867d0111d",
   "metadata": {},
   "outputs": [
    {
     "data": {
      "text/plain": [
       "183.6"
      ]
     },
     "execution_count": 16,
     "metadata": {},
     "output_type": "execute_result"
    }
   ],
   "source": [
    "broken_run[0].config.readlength * 0.9"
   ]
  },
  {
   "cell_type": "code",
   "execution_count": 8,
   "id": "957da155-1d67-4082-b6ee-36fc1f7f9491",
   "metadata": {},
   "outputs": [
    {
     "data": {
      "text/plain": [
       "{'IndexPlate': 'DI01',\n",
       " 'Plate': 'TestPlate01',\n",
       " 'Well': 'C07',\n",
       " 'AaPosition': '7961',\n",
       " 'Aa': 'I',\n",
       " 'AlignmentFrequency': 0.8181818181818182,\n",
       " 'WellSeqDepth': 154,\n",
       " 'Flags': 'Unexpected Variation'}"
      ]
     },
     "execution_count": 8,
     "metadata": {},
     "output_type": "execute_result"
    }
   ],
   "source": [
    "broken_run[-3]"
   ]
  },
  {
   "cell_type": "code",
   "execution_count": 9,
   "id": "fd863545-31a8-4f5b-9cf8-200ca45d4e81",
   "metadata": {},
   "outputs": [
    {
     "data": {
      "text/plain": [
       "{'IndexPlate': 'DI01',\n",
       " 'Plate': 'TestPlate01',\n",
       " 'Well': 'C07',\n",
       " 'AaPosition': '7961',\n",
       " 'Aa': 'I',\n",
       " 'AlignmentFrequency': 0.8181818181818182,\n",
       " 'WellSeqDepth': 77,\n",
       " 'Flags': 'No usable forward alignments. -- Unexpected Variation'}"
      ]
     },
     "execution_count": 9,
     "metadata": {},
     "output_type": "execute_result"
    }
   ],
   "source": [
    "broken_run[-2]"
   ]
  },
  {
   "cell_type": "code",
   "execution_count": 13,
   "id": "77b08928-62e6-4ccc-827c-1f5531a94dbe",
   "metadata": {},
   "outputs": [
    {
     "data": {
      "text/plain": [
       "array([[33, 32, 30, ..., 25, 33, 35],\n",
       "       [33, 32, 30, ..., 25, 33, 35],\n",
       "       [33, 32, 30, ..., 25, 33, 35],\n",
       "       ...,\n",
       "       [33, 32, 30, ..., 25, 33, 35],\n",
       "       [33, 32, 30, ..., 25, 33, 35],\n",
       "       [33, 32, 30, ..., 25, 33, 35]])"
      ]
     },
     "execution_count": 13,
     "metadata": {},
     "output_type": "execute_result"
    }
   ],
   "source": [
    "broken_run[0].wells[46].variants[0].f_quals"
   ]
  },
  {
   "cell_type": "code",
   "execution_count": 14,
   "id": "779c2fcf-db7a-4c46-b8d1-59ac1ff1bb53",
   "metadata": {},
   "outputs": [
    {
     "data": {
      "text/plain": [
       "19"
      ]
     },
     "execution_count": 14,
     "metadata": {},
     "output_type": "execute_result"
    }
   ],
   "source": [
    "broken_run[0].wells[44].variants[1].total_counts"
   ]
  },
  {
   "cell_type": "code",
   "execution_count": null,
   "id": "aa5227b4-613c-42ee-8812-956996c16b05",
   "metadata": {},
   "outputs": [],
   "source": [
    "broken_run"
   ]
  }
 ],
 "metadata": {
  "kernelspec": {
   "display_name": "Python 3 (ipykernel)",
   "language": "python",
   "name": "python3"
  },
  "language_info": {
   "codemirror_mode": {
    "name": "ipython",
    "version": 3
   },
   "file_extension": ".py",
   "mimetype": "text/x-python",
   "name": "python",
   "nbconvert_exporter": "python",
   "pygments_lexer": "ipython3",
   "version": "3.8.11"
  }
 },
 "nbformat": 4,
 "nbformat_minor": 5
}
