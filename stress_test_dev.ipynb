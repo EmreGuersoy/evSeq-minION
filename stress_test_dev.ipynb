{
 "cells": [
  {
   "cell_type": "code",
   "execution_count": 1,
   "id": "9c391ce5-99ac-4ba4-9ab9-f25907ae324b",
   "metadata": {},
   "outputs": [],
   "source": [
    "import tests.data_generation.globals as test_glob\n",
    "from tests.data_generation.globals import SAVELOC\n",
    "from tests.data_generation.run_generator import FakeRun\n",
    "from tests.data_generation.stress_tests import test_aa\n",
    "\n",
    "import os\n",
    "import pickle\n",
    "import random\n",
    "import shutil\n",
    "import numpy as np\n",
    "import pandas as pd\n",
    "from glob import glob"
   ]
  },
  {
   "cell_type": "markdown",
   "id": "f584a77c-3e5c-433e-a7be-b6ff7c61a390",
   "metadata": {},
   "source": [
    "This is for stress-testing the evSeq code by passing in random inputs with known expected output. We then check to see if the evSeq outputs match the expected."
   ]
  },
  {
   "cell_type": "code",
   "execution_count": 2,
   "id": "18271d40-414c-44aa-ad47-a8707410470e",
   "metadata": {},
   "outputs": [],
   "source": [
    "def run_evseq_stress_test(detailed, include_nnn):\n",
    "    \n",
    "    # Run until we break something\n",
    "    counter = -1\n",
    "    while True:\n",
    "        \n",
    "        # Update the counter\n",
    "        counter += 1\n",
    "        \n",
    "        # Update the global RNG to match the counter (for reproducbility)\n",
    "        test_glob.RANDOM_SEED = counter\n",
    "        test_glob.NP_RNG = np.random.default_rng(counter)\n",
    "        test_glob.RANDOM_RNG = random.Random(counter)\n",
    "    \n",
    "        # Build a test run and the associated output files\n",
    "        test_run = FakeRun(detailed = detailed)\n",
    "        test_run.build_fastq()\n",
    "        test_run.build_refseq(include_nnn)\n",
    "\n",
    "        # Run evSeq on the generated data\n",
    "        test_run.run_evseq()\n",
    "\n",
    "        # Get the expected outputs\n",
    "        expected_out = test_run.build_expected_aa()\n",
    "\n",
    "        # Get the true outputs. Sort the true output in the same\n",
    "        # way the expected was sorted.\n",
    "        most_recent_run_path = sorted(glob(os.path.join(SAVELOC, \"evSeqOutput\", \"*\")))[-1]\n",
    "        true_out = pd.read_csv(os.path.join(most_recent_run_path, \"OutputCounts\", \n",
    "                                            \"AminoAcids_Decoupled_All.csv\"))\n",
    "        true_out.sort_values(by = [\"IndexPlate\", \"Well\", \"AaPosition\", \"Aa\"],\n",
    "                             inplace = True)\n",
    "\n",
    "        # Test the two dataframes to make sure they agree\n",
    "        test_passed, bad_platewells, reports = test_aa(expected_out, true_out)\n",
    "        \n",
    "        # Note success if all tests passed and delete output\n",
    "        if test_passed:\n",
    "            print(f\"All tests passed for seed: {counter}\")\n",
    "            shutil.rmtree(most_recent_run_path)\n",
    "        \n",
    "        # Save the error reports if there were any\n",
    "        else:\n",
    "            # Report errors\n",
    "            for plate, well in bad_platewells:\n",
    "                print(f\"Errors found for {plate}-{well} with seed {counter}.\")\n",
    "                \n",
    "            # Save the messed up components\n",
    "            error_loc = os.path.join(SAVELOC, \"ErrorReports\")\n",
    "            if not os.path.isdir(error_loc):\n",
    "                os.mkdir(error_loc)\n",
    "            with open(os.path.join(error_loc, f\"{counter}.pkl\"), \"wb\") as f:\n",
    "                pickle.dump([bad_platewells, reports], f)"
   ]
  },
  {
   "cell_type": "code",
   "execution_count": 4,
   "id": "1acf97cf-cd0d-4967-a727-ae16c158a3a9",
   "metadata": {
    "tags": []
   },
   "outputs": [],
   "source": [
    "test = run_evseq_stress_test(False, False)"
   ]
  },
  {
   "cell_type": "markdown",
   "id": "ca06d33e-0983-4e3a-a38b-2b2f35955eb8",
   "metadata": {},
   "source": [
    "To do:\n",
    "1. Reimplement pytests\n",
    "2. Build code to test combinations of amino acids coming out\n",
    "3. Build code to test the \"max\" files coming out"
   ]
  }
 ],
 "metadata": {
  "kernelspec": {
   "display_name": "Python 3 (ipykernel)",
   "language": "python",
   "name": "python3"
  },
  "language_info": {
   "codemirror_mode": {
    "name": "ipython",
    "version": 3
   },
   "file_extension": ".py",
   "mimetype": "text/x-python",
   "name": "python",
   "nbconvert_exporter": "python",
   "pygments_lexer": "ipython3",
   "version": "3.8.11"
  }
 },
 "nbformat": 4,
 "nbformat_minor": 5
}
