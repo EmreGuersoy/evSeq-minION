{
 "cells": [
  {
   "cell_type": "code",
   "execution_count": 1,
   "id": "04632f9e-b8db-407f-a2a8-fb7835a6f4ee",
   "metadata": {},
   "outputs": [],
   "source": [
    "from abc import ABC, abstractmethod\n",
    "from Bio.Data import CodonTable\n",
    "\n",
    "import numpy as np\n",
    "import pandas as pd\n",
    "import random\n",
    "import warnings"
   ]
  },
  {
   "cell_type": "markdown",
   "id": "a2b8c728-9295-48b5-9010-b66343504a03",
   "metadata": {},
   "source": [
    "This notebook is for putting together the end-to-end tests of evSeq. We will reconstruct inputs for known outputs, then test them make sure the evSeq software outputs what we expect.\n",
    "\n",
    "Steps:\n",
    "1. Build a random amino acid sequence. This is our reference AA.\n",
    "2. Decide if we are operating in detailed_refseq mode or not. If not, then the random amino acid sequence gives what we expect for the full plate.\n",
    "3. Build variants of the input amino acid sequences. Decide if we have a mixed well or not. A mixed well means we need a second amino acid sequence.\n",
    "4. Build both a \"NNN\" and no variation version of the reference sequence corresponding to positions where we expect mutations.\n",
    "5. Choose a random codon to encode the amino acid changes in the sequence.\n",
    "6. For building reads, choose:\n",
    "    1. Ratio of different sequences. This decides whether or not they are recognized by `variable_thresh`\n",
    "    2. Number of total sequences *at each position*. This decides whether a well is considered dead or not by `variable_count`\n",
    "7. Build a set of perfect reads up to the total number of target sequences. \n",
    "8. Add on bad sequences that should get filtered out by the `bp_q_cutoff`, `length_cutoff`, and `average_q_cutoff` parameters. Also add indels.\n",
    "9. Pad on additional sequence information that creates frameshifts. Add to an input file for processing."
   ]
  },
  {
   "cell_type": "markdown",
   "id": "93f493de-df68-433f-842c-6ace278fbfa1",
   "metadata": {},
   "source": [
    "Some methods are shared. These are held in an abstract base class:"
   ]
  },
  {
   "cell_type": "code",
   "execution_count": 2,
   "id": "7d572223-75de-4af9-9a6f-10a72b0c8f44",
   "metadata": {},
   "outputs": [],
   "source": [
    "class FakeData(ABC):\n",
    "    \"\"\"\n",
    "    Abstract class holding shared methods between data generators for testing.\n",
    "    \"\"\"\n",
    "    @abstractmethod\n",
    "    def build_output_counts(self):\n",
    "        \"\"\"\n",
    "        Builds output files for the different `OutputCounts`\n",
    "        \"\"\"\n",
    "        pass\n",
    "        \n",
    "    @abstractmethod\n",
    "    def build_filtered_fastqs(self):\n",
    "        \"\"\"\n",
    "        Builds the ParsedFilteredFastqs files for the different wells.\n",
    "        \"\"\"\n",
    "        # Use the `perfect_reads` + `corrupted_bases` reads to generate what we expect\n",
    "        # for the evSeq `ParsedFilteredFastqs` output\n",
    "        pass"
   ]
  },
  {
   "cell_type": "markdown",
   "id": "e930105f-b8e6-444f-a108-c604aabaead2",
   "metadata": {},
   "source": [
    "The BioPython codon table implementation is beyond bad, so we rewrite it here, fixing all of the BioPython flaws:"
   ]
  },
  {
   "cell_type": "code",
   "execution_count": 3,
   "id": "6e03e4ac-d2ac-413d-a41a-c09ae1d6d313",
   "metadata": {},
   "outputs": [],
   "source": [
    "class CustomCodonTable():\n",
    "    \"\"\"\n",
    "    Because the BioPython implementation of a codon table is all over the place,\n",
    "    fixing all the flaws in this class. Not inheriting because I just don't trust it.\n",
    "    \"\"\"\n",
    "    def __init__(self):\n",
    "        \n",
    "        # Get the standard codon table from BioPython. Their docs do not say what this is,\n",
    "        # but it looks right from a spot check. As it is, we wrote our own for evSeq, so it\n",
    "        # is good to have a separate codon table used for validation.\n",
    "        bio_codon_table = CodonTable.standard_dna_table\n",
    "        \n",
    "        # Build the forward dictionary. Add the stop codon translations (why\n",
    "        # aren't these included in the first place???).\n",
    "        self.codon_to_aa = bio_codon_table.forward_table.copy()\n",
    "        for stop_codon in bio_codon_table.stop_codons:\n",
    "            self.codon_to_aa[stop_codon] = \"*\"\n",
    "            \n",
    "        # Build the reverse dictionary. BioPython reverse dictionary includes just one \n",
    "        # codon per aa. Fix this.\n",
    "        self.aa_to_codon = {}\n",
    "        for codon, aa in self.codon_to_aa.items():\n",
    "            if aa in self.aa_to_codon:\n",
    "                self.aa_to_codon[aa].append(codon)\n",
    "            else:\n",
    "                self.aa_to_codon[aa] = [codon]"
   ]
  },
  {
   "cell_type": "markdown",
   "id": "5b7ea83a-31ae-4f6a-8755-4838f738a79d",
   "metadata": {},
   "source": [
    "We need global variables that define the bounds on our testing. Everything is randomly produced, so we need to set ranges on our sampling:"
   ]
  },
  {
   "cell_type": "code",
   "execution_count": 4,
   "id": "0a245856-42f2-497a-8050-9e8265830bab",
   "metadata": {},
   "outputs": [],
   "source": [
    "# Import evSeq globals needed for testing\n",
    "from evSeq.util.globals import (BARCODE_LENGTH, \n",
    "                                ADAPTER_F,\n",
    "                                ADAPTER_LENGTH_F,\n",
    "                                ADAPTER_R,\n",
    "                                ADAPTER_LENGTH_R)\n",
    "\n",
    "# Reference sequence bounds (IN NUMBER OF AAS!!)\n",
    "MIN_REFSEQ_LEN = 50\n",
    "MAX_REFSEQ_LEN = 251\n",
    "\n",
    "# Bounds on readlength\n",
    "MIN_READLENGTH = 150\n",
    "MAX_READLENGTH = 301\n",
    "assert (MIN_REFSEQ_LEN * 3) <= MIN_READLENGTH\n",
    "\n",
    "# Bounds on quality cutoffs\n",
    "MIN_BP_QUAL_CUTOFF = 15\n",
    "MAX_BP_QUAL_CUTOFF = 36\n",
    "\n",
    "MIN_GLOBAL_QUAL_CUTOFF = 15\n",
    "MAX_GLOBAL_QUAL_CUTOFF = 36\n",
    "\n",
    "MAX_QUAL_ALLOWED = 41\n",
    "\n",
    "# Bounds on sequence length cutoffs\n",
    "MIN_SEQLEN_CUTOFF = 0.0\n",
    "MAX_SEQLEN_CUTOFF = 1.0\n",
    "\n",
    "# Bounds on number of indels added\n",
    "MIN_INDELS_ADDED = 1\n",
    "MAX_INDELS_ADDED = 4\n",
    "\n",
    "# Bounds on primer lengths\n",
    "PRIMER_MIN_LEN = 10\n",
    "PRIMER_MAX_LEN = 41\n",
    "\n",
    "# Bounds on the frameshift for a reference seq\n",
    "FRAMESHIFT_MIN = 0\n",
    "FRAMESHIFT_MAX = 4\n",
    "\n",
    "# Bounds on position identification\n",
    "MIN_VARIABLE_THRESH = 0.0\n",
    "MAX_VARIABLE_THRESH = 1.0\n",
    "MIN_VARIABLE_COUNT = 0\n",
    "MAX_VARIABLE_COUNT = 21\n",
    "\n",
    "# Number of variants in a well\n",
    "MIN_N_VARIANTS = 1\n",
    "MAX_N_VARIANTS = 4\n",
    "\n",
    "# Number of reads in a well\n",
    "MIN_N_READS = 0\n",
    "MAX_N_READS = 101\n",
    "\n",
    "# Bounds on number of mutations per sequence (as a fraction\n",
    "# of the number of amino acids captured by the read-length)\n",
    "MIN_PERC_MUTATED = 0.0\n",
    "MAX_PERC_MUTATED = 0.2\n",
    "\n",
    "# Number of amino acids to rescue in overlapping regions (as\n",
    "# a fraction of the total number of rescue options)\n",
    "MIN_RESCUE_PERC = 0.0\n",
    "MAX_RESCUE_PERC = 0.5\n",
    "\n",
    "# Allowed nucleotides\n",
    "ALLOWED_NUCLEOTIDES = (\"A\", \"T\", \"C\", \"G\")\n",
    "\n",
    "# Codon table and allowed amino acid characters\n",
    "CODON_TABLE = CustomCodonTable()\n",
    "ALLOWED_AAS = tuple(sorted(list(CODON_TABLE.aa_to_codon.keys())))\n",
    "INT_TO_AA = dict(enumerate(ALLOWED_AAS))\n",
    "N_AAS = len(ALLOWED_AAS)\n",
    "\n",
    "# Random number generators\n",
    "RANDOM_SEED = sum(ord(char) for char in \"PDawg\")\n",
    "NP_RNG = np.random.default_rng(RANDOM_SEED)\n",
    "RANDOM_RNG = random.Random(RANDOM_SEED)\n",
    "\n",
    "# Barcode file\n",
    "INDEX_DF = pd.read_csv(\"../evSeq/util/index_map.csv\")\n",
    "N_INDICES = len(INDEX_DF)\n",
    "N_PLATES = len(INDEX_DF.IndexPlate.unique())"
   ]
  },
  {
   "cell_type": "markdown",
   "id": "01776e8e-6cd9-4c7c-a11e-382fb8f92d5a",
   "metadata": {},
   "source": [
    "We will store basic variables used for building test data in a configuration class, defined below:"
   ]
  },
  {
   "cell_type": "code",
   "execution_count": 5,
   "id": "8192e0be-4da8-409e-96e6-ea53c56ed522",
   "metadata": {},
   "outputs": [],
   "source": [
    "class QualityGenerator():\n",
    "    \"\"\"\n",
    "    Utility for generating quality score arrays\n",
    "    \"\"\"\n",
    "    def __init__(self, min_q_allowed):\n",
    "        self.min_q_allowed = min_q_allowed\n",
    "        \n",
    "    def generate_qualities(self, size):\n",
    "        return NP_RNG.integers(self.min_q_allowed, MAX_QUAL_ALLOWED,\n",
    "                               size = size)\n",
    "\n",
    "class FakeRefseq():\n",
    "    def __init__(self):\n",
    "        \n",
    "        # Randomly create an amino acid reference sequence. Record the length.\n",
    "        self.refseq_len = NP_RNG.integers(MIN_REFSEQ_LEN, MAX_REFSEQ_LEN)\n",
    "        aa_ints = NP_RNG.choice(N_AAS, size = self.refseq_len)\n",
    "        self.aa_refseq = [INT_TO_AA[aa_int] for aa_int in aa_ints]\n",
    "\n",
    "        # Assign a codon to each amino acid.\n",
    "        self.codon_refseq = [RANDOM_RNG.choice(CODON_TABLE.aa_to_codon[aa]) \n",
    "                             for i, aa in enumerate(self.aa_refseq)] \n",
    "        self.codon_refseq_len = self.refseq_len * 3\n",
    "        \n",
    "        # Decide on the frameshift of the reference sequence\n",
    "        self.frameshift_front = NP_RNG.integers(FRAMESHIFT_MIN, FRAMESHIFT_MAX)\n",
    "        self.frameshift_back = NP_RNG.integers(FRAMESHIFT_MIN, FRAMESHIFT_MAX)        \n",
    "        \n",
    "        # Determine the bases for the frameshift\n",
    "        self.frameshift_bp_front = RANDOM_RNG.choices(ALLOWED_NUCLEOTIDES, \n",
    "                                                      k = self.frameshift_front)\n",
    "        self.frameshift_bp_back = RANDOM_RNG.choices(ALLOWED_NUCLEOTIDES, \n",
    "                                                     k = self.frameshift_back)\n",
    "                \n",
    "        # Create primer seeds\n",
    "        self.primer_seed_len_f = NP_RNG.integers(PRIMER_MIN_LEN, PRIMER_MAX_LEN)\n",
    "        self.primer_seed_len_r = NP_RNG.integers(PRIMER_MIN_LEN, PRIMER_MAX_LEN)\n",
    "        self.primer_seed_f = RANDOM_RNG.choices(ALLOWED_NUCLEOTIDES, k = self.primer_seed_len_f)\n",
    "        self.primer_seed_r = RANDOM_RNG.choices(ALLOWED_NUCLEOTIDES, k = self.primer_seed_len_r)\n",
    "        \n",
    "        # Assign the total readable window\n",
    "        self.readable_window_len = (self.codon_refseq_len + \n",
    "                                    self.frameshift_front +\n",
    "                                    self.frameshift_back + \n",
    "                                    self.primer_seed_len_f + \n",
    "                                    self.primer_seed_len_r +\n",
    "                                    ADAPTER_LENGTH_F +\n",
    "                                    ADAPTER_LENGTH_R +\n",
    "                                    2 * BARCODE_LENGTH)\n",
    "    \n",
    "    def define_refseq_windows(self, readlength):\n",
    "        \"\"\"\n",
    "        Defines the region within the mutable refseq region that can be modified.\n",
    "        \"\"\"\n",
    "        # Choose legal positions for making mutations. For forward, the first readable comes after\n",
    "        # the barcode, adapter, and seed region; this is the last readable for reverse. For forward,\n",
    "        # the last readable . ForThis is the last amino acid\n",
    "        # captured in full by the readlength, considering the primer binding region,\n",
    "        # the adapter machinery, and the barcode.\n",
    "        effective_readlength = readlength - BARCODE_LENGTH\n",
    "        max_readable_aa_ind_f = (effective_readlength - self.frameshift_front -\n",
    "                                 ADAPTER_LENGTH_F - self.primer_seed_len_f) // 3\n",
    "        min_readable_aa_ind_r = (effective_readlength - self.frameshift_back - \n",
    "                                 ADAPTER_LENGTH_R - self.primer_seed_len_r) // 3\n",
    "        \n",
    "        aa_refseq_len = len(self.aa_refseq)\n",
    "        self.forward_readable_aas = list(range(0, max_readable_aa_ind_f))\n",
    "        self.reverse_readable_aas = list(range(aa_refseq_len - min_readable_aa_ind_r, aa_refseq_len))\n",
    "        mutable_aa_inds = self.forward_readable_aas + self.reverse_readable_aas\n",
    "        \n",
    "        # Get only unique mutable inds\n",
    "        self.mutable_aa_inds = np.array(list(set(mutable_aa_inds)), dtype = int)\n",
    "        self.mutable_aa_inds.sort()\n",
    "        \n",
    "        # Get the set of indices that is captured by both the forward and reverse reads\n",
    "        self.double_count_inds = set(self.forward_readable_aas) & set(self.reverse_readable_aas)\n",
    "        \n",
    "    def assign_qualities(self, min_q_allowed):\n",
    "        \"\"\"\n",
    "        Assigns base quality scores to all sequence components. This includes:\n",
    "        1. Primer seeds\n",
    "        2. Frameshifts\n",
    "        3. The codon refseq\n",
    "        \"\"\"\n",
    "        # Create a quality generator\n",
    "        q_generator = QualityGenerator(min_q_allowed)\n",
    "        \n",
    "        # Primer seed qualities\n",
    "        self.primer_qualities_f = q_generator.generate_qualities(self.primer_seed_len_f)\n",
    "        self.primer_qualities_r = q_generator.generate_qualities(self.primer_seed_len_r)\n",
    "        \n",
    "        # Barcode qualities\n",
    "        self.fbc_qualities = q_generator.generate_qualities(BARCODE_LENGTH)\n",
    "        self.rbc_qualities = q_generator.generate_qualities(BARCODE_LENGTH)\n",
    "        \n",
    "        # Adapter qualities\n",
    "        self.adapter_qualities_f = q_generator.generate_qualities(ADAPTER_LENGTH_F)\n",
    "        self.adapter_qualities_r = q_generator.generate_qualities(ADAPTER_LENGTH_R)\n",
    "        \n",
    "        # Frameshift qualities\n",
    "        self.frameshift_front_qualities = q_generator.generate_qualities(self.frameshift_front)\n",
    "        self.frameshift_back_qualities = q_generator.generate_qualities(self.frameshift_back)\n",
    "        \n",
    "        # Variable region base qualities\n",
    "        self.base_variable_qualities = q_generator.generate_qualities(self.refseq_len * 3)        \n",
    "        \n",
    "    @staticmethod\n",
    "    def aa_seq_to_codon_seq(aa_seq):\n",
    "        return [RANDOM_RNG.choice(CODON_TABLE.aa_to_codon[aa]) \n",
    "                for i, aa in enumerate(aa_seq)]         \n",
    "        \n",
    "    @property\n",
    "    def refseq_bp_seq(self):\n",
    "        \"\"\"\n",
    "        Returns the sequence of the refseq that will be fed into evSeq\n",
    "        \"\"\"\n",
    "        return \"\".join(\n",
    "            self.primer_seed_f +\n",
    "            self.frameshift_bp_front +\n",
    "            self.codon_refseq +\n",
    "            self.frameshift_bp_back +\n",
    "            self.primer_seed_r\n",
    "        )\n",
    "    \n",
    "    @property\n",
    "    def refseq_bp_qualities(self):\n",
    "        \"\"\"\n",
    "        Returns the qualities of the sequence returned by `refseq_bp_seq`\n",
    "        \"\"\"\n",
    "        return np.concatenate((\n",
    "            self.primer_qualities_f,\n",
    "            self.frameshift_front_qualities,\n",
    "            self.base_variable_qualities,\n",
    "            self.frameshift_back_qualities,\n",
    "            self.primer_qualities_r\n",
    "        ))\n",
    "        \n",
    "# Class that holds parameters that will be needed by evSeq\n",
    "class Config():\n",
    "    def __init__(self, detailed = True):\n",
    "        \"\"\"\n",
    "        Builds a set of conditions that might be passed into an evSeq run.\n",
    "        \"\"\"\n",
    "        # Record whether or not this is a detailed run\n",
    "        self.detailed = detailed\n",
    "        \n",
    "        # Build as many reference sequences as needed\n",
    "        n_refs_needed = N_INDICES if detailed else N_PLATES\n",
    "        self.refseqs = [FakeRefseq() for _ in range(n_refs_needed)] \n",
    "        \n",
    "        # Decide on the readlength that we will be using. The maximum allowed\n",
    "        # readlength cannot be longer than the full sequencable length of\n",
    "        # the shortest a reference sequence\n",
    "        min_refseq_len = min(refseq.readable_window_len for refseq in self.refseqs)\n",
    "        max_readlength = min(min_refseq_len, MAX_READLENGTH)\n",
    "        self.readlength = NP_RNG.integers(MIN_READLENGTH, max_readlength)\n",
    "                \n",
    "        # Decide on the input variables that will define the run, including \n",
    "        # average_q_cutoff, bp_q_cutoff, length_cutoff, variable_thresh, and\n",
    "        # variable_count\n",
    "        self.average_q_cutoff = NP_RNG.integers(MIN_GLOBAL_QUAL_CUTOFF, MAX_GLOBAL_QUAL_CUTOFF)\n",
    "        self.bp_q_cutoff = NP_RNG.integers(MIN_BP_QUAL_CUTOFF, MAX_BP_QUAL_CUTOFF)\n",
    "        self.length_cutoff = NP_RNG.uniform(MIN_SEQLEN_CUTOFF, MAX_SEQLEN_CUTOFF)\n",
    "        self.variable_thresh = NP_RNG.uniform(MIN_VARIABLE_THRESH, MAX_VARIABLE_THRESH)\n",
    "        self.variable_count = NP_RNG.integers(MIN_VARIABLE_COUNT, MAX_VARIABLE_COUNT)\n",
    "        \n",
    "        # Build base quality scores for the reference sequences. Also define the allowed\n",
    "        # mutagenesis windows for the amino acids, which encompasses the last amino acids\n",
    "        # captured in full by the readlength. \n",
    "        for refseq in self.refseqs:\n",
    "            refseq.assign_qualities(max(self.average_q_cutoff, self.bp_q_cutoff))\n",
    "            refseq.define_refseq_windows(self.readlength)"
   ]
  },
  {
   "cell_type": "markdown",
   "id": "a41dcb37-fce2-4f65-b0c9-7908e16c7a1c",
   "metadata": {},
   "source": [
    "The basic data generator is a FakeWell instance. This holds methods for building fake data from the Config object."
   ]
  },
  {
   "cell_type": "code",
   "execution_count": 6,
   "id": "9a981cd0-c862-4412-9bc3-dbabf7346185",
   "metadata": {},
   "outputs": [],
   "source": [
    "# Create a class that holds all relevant information for a variant\n",
    "class Variant(FakeData):\n",
    "    def __init__(self, refseq, counts, minimum_reads_allowed):\n",
    "        \n",
    "        # The refseq is an instance variable\n",
    "        self.refseq = refseq\n",
    "        \n",
    "        # Set the total number of counts for the variant and the\n",
    "        # minimum reads that are allowed for it\n",
    "        self.total_counts = counts\n",
    "        self.minimum_reads_allowed = minimum_reads_allowed\n",
    "        \n",
    "        # Choose the variable positions\n",
    "        self.choose_variable_positions()\n",
    "        \n",
    "        # Assign Q scores\n",
    "        \n",
    "        # Add noise to the codons, making sure to consider (1) that we don't\n",
    "        # accidentally drop below the read threshold and (2) whether the overlap\n",
    "        # between forward and reverse can cover for any read errors\n",
    "        \n",
    "    def choose_variable_positions(self):\n",
    "        \"\"\"\n",
    "        Chooses the variable positions for the variant and assigns mutant\n",
    "        amino acids/codons.\n",
    "        \"\"\"\n",
    "        # Get the number of mutations to make\n",
    "        n_mutable_positions = len(self.refseq.mutable_aa_inds)\n",
    "        min_n_muts = int(MIN_PERC_MUTATED * n_mutable_positions)\n",
    "        max_n_muts = int(MAX_PERC_MUTATED * n_mutable_positions) + 1\n",
    "        self.n_variable_positions = NP_RNG.integers(min_n_muts, max_n_muts)\n",
    "        \n",
    "        # Decide on the positions that will be varied within the variant\n",
    "        # This must be in the readable region. \n",
    "        self.mutated_positions = NP_RNG.choice(self.refseq.mutable_aa_inds, \n",
    "                                               size = self.n_variable_positions,\n",
    "                                               replace = False)\n",
    "        self.mutated_positions.sort()\n",
    "        \n",
    "        # Choose variable amino acids\n",
    "        self.variable_aas = RANDOM_RNG.choices(ALLOWED_AAS, k = self.n_variable_positions)\n",
    "        \n",
    "        # Choose a random codon for encoding said amino acids. It cannot be the\n",
    "        # same as the existing codon.\n",
    "        self.variable_codons = [None] * self.n_variable_positions\n",
    "        for i, aa in enumerate(self.variable_aas):\n",
    "            \n",
    "            # Get the options for the alternate codons. Again, we cannot\n",
    "            # reuse the codon that is already present in the refseq\n",
    "            existing_codon = self.refseq.codon_refseq[self.mutated_positions[i]]\n",
    "            codon_opts = [codon for codon in CODON_TABLE.aa_to_codon[aa]\n",
    "                          if codon != existing_codon]\n",
    "            \n",
    "            # If there are no alternate codons (e.g., if we selected methionine as\n",
    "            # our mutant aa and refseq was already methionine), then just sample from\n",
    "            # leucine\n",
    "            if len(codon_opts) == 0:\n",
    "                self.variable_aas[i] = \"L\"\n",
    "                codon_opts = CODON_TABLE.aa_to_codon[\"L\"]\n",
    "                \n",
    "            # Select the new codon\n",
    "            self.variable_codons[i] = RANDOM_RNG.choice(codon_opts)            \n",
    "        \n",
    "    def assign_qualities(self):\n",
    "        \"\"\"\n",
    "        Assigns counts to different bases and amino acids, then assigns quality scores\n",
    "        to get them to these counts\n",
    "        \"\"\"\n",
    "        # Add noise to the codons, dropping them below the perfect counts\n",
    "        # Here we need to make sure to consider (1) that we don't\n",
    "        # accidentally drop below the read threshold and (2) whether the overlap\n",
    "        # between forward and reverse can cover for any read errors\n",
    "              \n",
    "        \n",
    "        # Make sure the qualities of the frameshift components are also added on\n",
    "        # to this output\n",
    "        pass\n",
    "    \n",
    "    def build_expected_count_arrays(self):\n",
    "\n",
    "        # Create arrays of counts.\n",
    "        expected_aa_counts = np.full(self.n_variable_positions, \n",
    "                                     self.total_counts)\n",
    "        expected_bp_counts = np.full(self.n_variable_positions * 3, \n",
    "                                     self.total_counts)\n",
    "\n",
    "        # Double positions in the counts where we have overlap \n",
    "        for i, mutant_pos in enumerate(self.mutated_positions):\n",
    "            if mutant_pos in self.refseq.double_count_inds:\n",
    "\n",
    "                # Double aa counts\n",
    "                expected_aa_counts[i] *= 2\n",
    "\n",
    "                # Double bp counts\n",
    "                bp_start_ind = i * 3\n",
    "                for bp_ind in range(bp_start_ind, bp_start_ind + 3):\n",
    "                    expected_bp_counts[bp_ind] *= 2\n",
    "\n",
    "        return expected_aa_counts, expected_bp_counts\n",
    "        \n",
    "    def build_perfect_reads(self):\n",
    "        \"\"\"\n",
    "        Assigns a `perfect_reads` variable to the instance.\n",
    "        \"\"\"\n",
    "        pass\n",
    "        # Decide on the ratio between the different variants\n",
    "        \n",
    "        # Get the total sequences we want at each **position**\n",
    "        \n",
    "        # Build a set of perfect reads up to the target numbers\n",
    "        \n",
    "    def build_corrupted_reads(self):\n",
    "        \"\"\"\n",
    "        Assigns `corrupted_reads` and `corrupted_bases` variables to the instance.\n",
    "        \"\"\"\n",
    "        pass\n",
    "        # Choose how many sequences to add of each flavor.\n",
    "        \n",
    "        # Add sequences filtered out by bp_q_cutoff. This is `corrupted_bases`\n",
    "        \n",
    "        # Add indels. These will go into `corrupted_bases`. We need to record the positions \n",
    "        # where indels are found.\n",
    "        \n",
    "        # Add sequences filtered out by the average_q_cutoff. This is `corrupted_reads`.\n",
    "        \n",
    "        # Add sequences filtered out by the length_cutoff. This is added to `corrupted_reads`.\n",
    "        \n",
    "    def build_output_counts(self):\n",
    "        \"\"\"\n",
    "        Builds output files for the different `OutputCounts`\n",
    "        \"\"\"\n",
    "        pass\n",
    "        \n",
    "    def build_filtered_fastqs(self):\n",
    "        \"\"\"\n",
    "        Builds the ParsedFilteredFastqs files for the different wells.\n",
    "        \"\"\"\n",
    "        pass\n",
    "    \n",
    "# Class that holds information for a test well\n",
    "class FakeWell(FakeData):\n",
    "    def __init__(self, config, reference_sequence):\n",
    "    \n",
    "        # Assign the config and reference sequence objects as instance variables\n",
    "        self.config = config\n",
    "        self.refseq = reference_sequence\n",
    "        \n",
    "        # Create a barcode variable as a placeholder. This will be filled when the well\n",
    "        # is passed with others to a FakeRun instance.\n",
    "        self.f_barcode = None\n",
    "        self.r_barcode = None\n",
    "                \n",
    "        # Get the total number of reads in the well. \n",
    "        self.total_reads = NP_RNG.integers(MIN_N_READS, MAX_N_READS)\n",
    "        \n",
    "        # Decide on how many variants we want in the well. \n",
    "        self.assign_n_variants()\n",
    "        \n",
    "        # Decide the relative abundance of each variant, then build variants\n",
    "        variant_abundances, minimum_reads_per_variant = self.calculate_variant_abundances()\n",
    "        self.variants = [Variant(reference_sequence, abundance, minimum_reads_per_variant) for\n",
    "                         abundance in variant_abundances]   \n",
    "        \n",
    "        # Create a \"NNN\" version of the reference sequence for use in processing.\n",
    "        # Note that we don't need to capture all positions -- we want evSeq to\n",
    "        # handle finding some of them sometimes. Thus, the NNN refseq is derived from\n",
    "        # the first variant in the well\n",
    "        \n",
    "        # Also at this step, add padding to the refseq.\n",
    "#         raise NotImplementedError()\n",
    "         \n",
    "    def assign_n_variants(self):\n",
    "        \"\"\"\n",
    "        Determines how many variants are in the well.\n",
    "        \"\"\"\n",
    "        # Decide on how many variants we want in the well. The maximum allowed is\n",
    "        # the minimum of (1) how many variants we can spread reads over to get above\n",
    "        # the `variable_count` threshold, (2) the most allowed with the given \n",
    "        # `variable_thresh`, and (3) the `MAX_N_VARIANTS` global.\n",
    "        count_divisor = 1 if self.config.variable_count == 0 else self.config.variable_count\n",
    "        max_n_variants = min(\n",
    "            self.total_reads // count_divisor,\n",
    "            int(1 // self.config.variable_thresh),\n",
    "            MAX_N_VARIANTS\n",
    "        )\n",
    "        \n",
    "        # Make it so that we always have at least one variant\n",
    "        if max_n_variants == 0:\n",
    "            max_n_variants = 1\n",
    "        self.n_variants = NP_RNG.integers(MIN_N_VARIANTS, max_n_variants + 1)\n",
    "    \n",
    "    def calculate_variant_abundances(self):\n",
    "        \"\"\"\n",
    "        Decide how many counts go to each variant.\n",
    "        \"\"\"\n",
    "        # Each variant must be more abundant than both the variable threshold\n",
    "        # and the variable counts\n",
    "        minimum_reads_per_variant = max(\n",
    "            int(np.ceil(self.config.variable_thresh * self.total_reads)),\n",
    "            self.config.variable_count\n",
    "        )\n",
    "\n",
    "        # Now assign read counts to each variant. If there is only 1 variant, then it gets\n",
    "        # all reads\n",
    "        if self.n_variants == 1:\n",
    "            variant_counts = [self.total_reads]\n",
    "\n",
    "        # If there are more than 1 variants, for each variant, we sample\n",
    "        # from the range of minimum reads per variant to total reads \n",
    "        # remaining, considering that some reads have already been\n",
    "        # assigned to variants\n",
    "        else:\n",
    "            total_reads_available = self.total_reads\n",
    "            variants_remaining = self.n_variants\n",
    "            variant_counts = [None] * self.n_variants\n",
    "            for i in range(self.n_variants):\n",
    "\n",
    "                # Get the maximum number of reads that we can sample\n",
    "                max_reads_available_ind = FakeWell.calculate_maximum_reads_ind(total_reads_available, \n",
    "                                                                               variants_remaining,\n",
    "                                                                               minimum_reads_per_variant)\n",
    "\n",
    "                # Sample to get the number of variants\n",
    "                sampled_variants = NP_RNG.integers(minimum_reads_per_variant, max_reads_available_ind)\n",
    "                variant_counts[i] = sampled_variants\n",
    "\n",
    "                # Update the number of reads available for sampling and the number of variants\n",
    "                # still needing samples\n",
    "                total_reads_available -= sampled_variants\n",
    "                variants_remaining -= 1\n",
    "\n",
    "                # If this is the breakpoint, assign the remaining reads to the remaining variant\n",
    "                if variants_remaining == 1:\n",
    "                    variant_counts[-1] = total_reads_available\n",
    "                    break\n",
    "\n",
    "        # Checks to make sure the counts were assigned appropriately\n",
    "        assert not any(count is None for count in variant_counts)\n",
    "        assert sum(variant_counts) == self.total_reads   \n",
    "        \n",
    "        return variant_counts, minimum_reads_per_variant\n",
    "        \n",
    "    def build_output_counts(self):\n",
    "        \"\"\"\n",
    "        Builds output files for the different `OutputCounts`\n",
    "        \"\"\"\n",
    "        pass\n",
    "        \n",
    "    def build_filtered_fastqs(self):\n",
    "        \"\"\"\n",
    "        Builds the ParsedFilteredFastqs files for the different wells.\n",
    "        \"\"\"\n",
    "        pass\n",
    "    \n",
    "    @staticmethod\n",
    "    def calculate_maximum_reads_ind(total_reads_available, total_variants, minimum_reads_per_variant):\n",
    "        \n",
    "        # Get the upper bound of sampling maximum reads\n",
    "        return total_reads_available - ((total_variants - 1) * minimum_reads_per_variant) + 1"
   ]
  },
  {
   "cell_type": "code",
   "execution_count": 7,
   "id": "91d0e113-b7d0-4abf-aadc-5fae7d666ed7",
   "metadata": {},
   "outputs": [
    {
     "data": {
      "text/plain": [
       "{39, 40, 41, 42, 43}"
      ]
     },
     "execution_count": 7,
     "metadata": {},
     "output_type": "execute_result"
    }
   ],
   "source": [
    "test_config = Config()\n",
    "test_well = FakeWell(test_config, test_config.refseqs[0])\n",
    "test_variant = test_well.variants[0]\n",
    "test_variant.refseq.double_count_inds"
   ]
  },
  {
   "cell_type": "code",
   "execution_count": 8,
   "id": "a6a47995-47a0-44db-9599-6469869aa626",
   "metadata": {},
   "outputs": [
    {
     "data": {
      "text/plain": [
       "13"
      ]
     },
     "execution_count": 8,
     "metadata": {},
     "output_type": "execute_result"
    }
   ],
   "source": [
    "test_variant.minimum_reads_allowed"
   ]
  },
  {
   "cell_type": "code",
   "execution_count": 9,
   "id": "e3b1786e-17be-47ad-a728-728269a3e023",
   "metadata": {},
   "outputs": [
    {
     "data": {
      "text/plain": [
       "41"
      ]
     },
     "execution_count": 9,
     "metadata": {},
     "output_type": "execute_result"
    }
   ],
   "source": [
    "test_variant.total_counts"
   ]
  },
  {
   "cell_type": "code",
   "execution_count": 10,
   "id": "f268c93e-b64e-4210-b049-905d55096698",
   "metadata": {},
   "outputs": [
    {
     "data": {
      "text/plain": [
       "['I', 'S', 'Y', 'P', 'S', 'L', 'P', 'E', 'A', '*', 'N', 'E', 'Q', 'E', 'L']"
      ]
     },
     "execution_count": 10,
     "metadata": {},
     "output_type": "execute_result"
    }
   ],
   "source": [
    "test_variant.variable_aas"
   ]
  },
  {
   "cell_type": "code",
   "execution_count": 11,
   "id": "ec783ea2-b5b3-4b37-9387-f4f1489d20ff",
   "metadata": {},
   "outputs": [
    {
     "data": {
      "text/plain": [
       "['ATA',\n",
       " 'AGT',\n",
       " 'TAT',\n",
       " 'CCT',\n",
       " 'AGC',\n",
       " 'TTG',\n",
       " 'CCA',\n",
       " 'GAG',\n",
       " 'GCA',\n",
       " 'TAA',\n",
       " 'AAC',\n",
       " 'GAG',\n",
       " 'CAG',\n",
       " 'GAA',\n",
       " 'TTA']"
      ]
     },
     "execution_count": 11,
     "metadata": {},
     "output_type": "execute_result"
    }
   ],
   "source": [
    "test_variant.variable_codons"
   ]
  },
  {
   "cell_type": "code",
   "execution_count": 12,
   "id": "e299da7f-2b5a-449f-a8bb-7f72df871cc3",
   "metadata": {},
   "outputs": [
    {
     "data": {
      "text/plain": [
       "array([ 9, 18, 27, 31, 32, 37, 39, 41, 46, 55, 63, 65, 66, 75, 76])"
      ]
     },
     "execution_count": 12,
     "metadata": {},
     "output_type": "execute_result"
    }
   ],
   "source": [
    "test_variant.mutated_positions"
   ]
  },
  {
   "cell_type": "code",
   "execution_count": 13,
   "id": "768d642f-cf20-430d-b6e2-463246a8366f",
   "metadata": {},
   "outputs": [],
   "source": [
    "# Build expected output counts for amino acids and bases\n",
    "expected_aa_counts, expected_bp_counts = test_variant.build_expected_count_arrays()\n",
    "\n",
    "# Decide how many reads for combos of amino acids will have noise\n",
    "# added to them. This number must fall above the minimum counts required.\n",
    "buffer_region = test_variant.total_counts - test_variant.minimum_reads_allowed\n",
    "n_combos_destroyed = NP_RNG.integers(buffer_region)\n",
    "\n",
    "# Get the expected number of both bp and aa combinations\n",
    "expected_combo_counts = test_variant.total_counts - n_combos_destroyed \n",
    "\n",
    "# Decide which reads will have noise added.\n",
    "read_inds = np.arange(test_variant.total_counts)\n",
    "noisy_reads = NP_RNG.choice(read_inds, \n",
    "                            size = n_combos_destroyed,\n",
    "                            replace = False)\n",
    "noisy_reads.sort()\n",
    "\n",
    "# Decide which amino acids within each read will have noise added.\n",
    "# Do not add noise to codons within 1 of the double overlap region.\n",
    "forbidden_noisy_aas = {min(test_variant.refseq.double_count_inds), \n",
    "                       max(test_variant.refseq.double_count_inds)}\n",
    "noisened_position_options = [pos for pos in test_variant.mutated_positions\n",
    "                             if pos not in forbidden_noisy_aas]\n",
    "noisy_positions = RANDOM_RNG.choices(noisened_position_options,\n",
    "                                     k = n_combos_destroyed)\n",
    "noisy_pos_set = set(noisy_positions)\n",
    "\n",
    "# Create two quality score arrays. One is for the forward read and the other\n",
    "# is for the reverse reads\n",
    "q_score_array_f = test_variant.refseq.base_variable_qualities.copy()\n",
    "q_score_array_r = q_score_array_f.copy()\n",
    "\n",
    "# Add noise to positions. Adjust counts and qualities accordingly.\n",
    "\n",
    "\n",
    "\n",
    "\n",
    "\n",
    "# Of amino acids found in the overlapping region, determine which ones\n",
    "# will need to be rescued (i.e., have only the forward or reverse read damaged)\n",
    "rescue_options = [pos for pos in test_variant.refseq.double_count_inds\n",
    "                  if pos not in noisy_pos_set]\n",
    "n_rescue_opts = len(rescue_options)\n",
    "min_to_rescue = int(MIN_RESCUE_PERC * n_rescue_opts)\n",
    "max_to_rescue = int(MAX_RESCUE_PERC * n_rescue_opts) + 1\n",
    "n_to_rescue = NP_RNG.integers(min_to_rescue, max_to_rescue)\n",
    "aas_to_rescue = RANDOM_RNG.choices(rescue_options, k = n_to_rescue)\n",
    "\n",
    "# Create rescued positions. Adjust counts and qualities accordingly.\n",
    "\n",
    "\n",
    "# Note that rescued aas can be broken in one of two ways: (1) setting Q-score too\n",
    "# low and (2) having Q-score lower in one read than the other and including the\n",
    "# wrong basepair\n",
    "\n",
    "# Reduce quality scores of individual bases below the allowed threshold. Record\n",
    "# the new counts for bases."
   ]
  },
  {
   "cell_type": "code",
   "execution_count": 14,
   "id": "a3639bd3-87d0-4938-9511-14946b6421e9",
   "metadata": {},
   "outputs": [
    {
     "data": {
      "text/plain": [
       "array([41, 41, 41, 41, 41, 41, 82, 82, 41, 41, 41, 41, 41, 41, 41])"
      ]
     },
     "execution_count": 14,
     "metadata": {},
     "output_type": "execute_result"
    }
   ],
   "source": [
    "expected_aa_counts"
   ]
  },
  {
   "cell_type": "code",
   "execution_count": 79,
   "id": "6a9d212c-ff2d-4325-bcf4-d5651d046a25",
   "metadata": {},
   "outputs": [
    {
     "data": {
      "text/plain": [
       "array([41, 41, 41, 41, 41, 41, 41, 41, 41, 41, 41, 41, 41, 41, 41, 41, 41,\n",
       "       41, 82, 82, 82, 82, 82, 82, 41, 41, 41, 41, 41, 41, 41, 41, 41, 41,\n",
       "       41, 41, 41, 41, 41, 41, 41, 41, 41, 41, 41])"
      ]
     },
     "execution_count": 79,
     "metadata": {},
     "output_type": "execute_result"
    }
   ],
   "source": [
    "expected_bp_counts"
   ]
  },
  {
   "cell_type": "code",
   "execution_count": 77,
   "id": "7785b6ff-058f-4a2a-8307-8cfa830205ae",
   "metadata": {},
   "outputs": [
    {
     "data": {
      "text/plain": [
       "{39, 40, 41, 42, 43}"
      ]
     },
     "execution_count": 77,
     "metadata": {},
     "output_type": "execute_result"
    }
   ],
   "source": [
    "test_variant.refseq.double_count_inds"
   ]
  },
  {
   "cell_type": "code",
   "execution_count": 78,
   "id": "bcac5fab-603c-4d49-9c83-c180fc829653",
   "metadata": {},
   "outputs": [
    {
     "data": {
      "text/plain": [
       "array([ 9, 18, 27, 31, 32, 37, 39, 41, 46, 55, 63, 65, 66, 75, 76])"
      ]
     },
     "execution_count": 78,
     "metadata": {},
     "output_type": "execute_result"
    }
   ],
   "source": [
    "test_variant.mutated_positions"
   ]
  },
  {
   "cell_type": "code",
   "execution_count": 34,
   "id": "4635de3d-807b-4b5c-9e7b-92bc34d71da9",
   "metadata": {},
   "outputs": [
    {
     "data": {
      "text/plain": [
       "5"
      ]
     },
     "execution_count": 34,
     "metadata": {},
     "output_type": "execute_result"
    }
   ],
   "source": [
    "n_combos_destroyed"
   ]
  },
  {
   "cell_type": "code",
   "execution_count": 24,
   "id": "9c05f964-8570-460c-9e6f-bdd38b30fb56",
   "metadata": {},
   "outputs": [
    {
     "data": {
      "text/plain": [
       "28"
      ]
     },
     "execution_count": 24,
     "metadata": {},
     "output_type": "execute_result"
    }
   ],
   "source": [
    "buffer_region"
   ]
  },
  {
   "cell_type": "markdown",
   "id": "a23c3e0b-3264-43f0-a0dd-09e078c0add8",
   "metadata": {},
   "source": [
    "All FakeWell instances are held within a FakeRun instance that assigns barcodes to the fake wells, handles fake input generation, and builds expected outputs."
   ]
  },
  {
   "cell_type": "code",
   "execution_count": 5,
   "id": "1c7e3758-0bdf-4968-9a86-8506ed7bf485",
   "metadata": {},
   "outputs": [],
   "source": [
    "# Class that holds information for a test run\n",
    "def FakeRun(FakeData):\n",
    "    def __init__(self, fakewells, detailed = True):\n",
    "        \"\"\"\n",
    "        fakewells: A list of fully prepared FakeWell objects.\n",
    "        detailed: Whether or not we are using a detailed refseq file. \n",
    "        \"\"\"\n",
    "        # Assign fakewells as an instance variable\n",
    "        pass\n",
    "    \n",
    "    def build_input(self):\n",
    "        pass\n",
    "        # Assign a barcode combo to each of the fakewells\n",
    "        \n",
    "        # Build fastq files from the fakewells\n",
    "        \n",
    "        # Return the fastq files ready for processing\n",
    "        \n",
    "    def build_output_counts(self):\n",
    "        \"\"\"\n",
    "        Builds output files for the different `OutputCounts`\n",
    "        \"\"\"\n",
    "        pass\n",
    "        \n",
    "    def build_filtered_fastqs(self):\n",
    "        \"\"\"\n",
    "        Builds the ParsedFilteredFastqs files for the different wells.\n",
    "        \"\"\"\n",
    "        pass"
   ]
  },
  {
   "cell_type": "code",
   "execution_count": null,
   "id": "e17e1fd2-8327-4d57-9e1d-f9e4d389d6d5",
   "metadata": {},
   "outputs": [],
   "source": []
  }
 ],
 "metadata": {
  "kernelspec": {
   "display_name": "Python 3 (ipykernel)",
   "language": "python",
   "name": "python3"
  },
  "language_info": {
   "codemirror_mode": {
    "name": "ipython",
    "version": 3
   },
   "file_extension": ".py",
   "mimetype": "text/x-python",
   "name": "python",
   "nbconvert_exporter": "python",
   "pygments_lexer": "ipython3",
   "version": "3.8.11"
  }
 },
 "nbformat": 4,
 "nbformat_minor": 5
}
