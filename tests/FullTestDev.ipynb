{
 "cells": [
  {
   "cell_type": "code",
   "execution_count": 14,
   "id": "04632f9e-b8db-407f-a2a8-fb7835a6f4ee",
   "metadata": {},
   "outputs": [
    {
     "ename": "ModuleNotFoundError",
     "evalue": "No module named 'tests.data_generation'",
     "output_type": "error",
     "traceback": [
      "\u001b[0;31m---------------------------------------------------------------------------\u001b[0m",
      "\u001b[0;31mModuleNotFoundError\u001b[0m                       Traceback (most recent call last)",
      "\u001b[0;32m/tmp/ipykernel_18162/2053258387.py\u001b[0m in \u001b[0;36m<module>\u001b[0;34m\u001b[0m\n\u001b[0;32m----> 1\u001b[0;31m \u001b[0;32mfrom\u001b[0m \u001b[0mdata_generation\u001b[0m\u001b[0;34m.\u001b[0m\u001b[0mwell_generator\u001b[0m \u001b[0;32mimport\u001b[0m \u001b[0mFakeWell\u001b[0m\u001b[0;34m\u001b[0m\u001b[0;34m\u001b[0m\u001b[0m\n\u001b[0m",
      "\u001b[0;32m~/GitRepos/evSeq/tests/data_generation/well_generator.py\u001b[0m in \u001b[0;36m<module>\u001b[0;34m\u001b[0m\n\u001b[1;32m      1\u001b[0m \u001b[0;31m# Import globals module\u001b[0m\u001b[0;34m\u001b[0m\u001b[0;34m\u001b[0m\u001b[0;34m\u001b[0m\u001b[0m\n\u001b[0;32m----> 2\u001b[0;31m \u001b[0;32mimport\u001b[0m \u001b[0mtests\u001b[0m\u001b[0;34m.\u001b[0m\u001b[0mdata_generation\u001b[0m\u001b[0;34m.\u001b[0m\u001b[0mglobals\u001b[0m \u001b[0;32mas\u001b[0m \u001b[0mtest_glob\u001b[0m\u001b[0;34m\u001b[0m\u001b[0;34m\u001b[0m\u001b[0m\n\u001b[0m\u001b[1;32m      3\u001b[0m \u001b[0;34m\u001b[0m\u001b[0m\n\u001b[1;32m      4\u001b[0m \u001b[0;31m# Import testing globals that never change\u001b[0m\u001b[0;34m\u001b[0m\u001b[0;34m\u001b[0m\u001b[0;34m\u001b[0m\u001b[0m\n\u001b[1;32m      5\u001b[0m from tests.data_generation.globals import (\n",
      "\u001b[0;31mModuleNotFoundError\u001b[0m: No module named 'tests.data_generation'"
     ]
    }
   ],
   "source": [
    "from data_generation.well_generator import FakeWell"
   ]
  },
  {
   "cell_type": "markdown",
   "id": "a23c3e0b-3264-43f0-a0dd-09e078c0add8",
   "metadata": {},
   "source": [
    "All FakeWell instances are held within a FakeRun instance that assigns barcodes to the fake wells, handles fake input generation, and builds expected outputs."
   ]
  },
  {
   "cell_type": "code",
   "execution_count": 12,
   "id": "1c7e3758-0bdf-4968-9a86-8506ed7bf485",
   "metadata": {},
   "outputs": [],
   "source": [
    "# Class that holds information for a test run\n",
    "class FakeRun():\n",
    "    def __init__(self, detailed = True):\n",
    "        \"\"\"\n",
    "        fakewells: A list of fully prepared FakeWell objects.\n",
    "        detailed: Whether or not we are using a detailed refseq file. \n",
    "        \"\"\"\n",
    "        # Set a random configuration\n",
    "        self.config = Config(detailed = detailed)\n",
    "                \n",
    "        # Build wells\n",
    "        self.wells = [None] * len(INDEX_DF)\n",
    "        unique_plates_found = {}\n",
    "        refseq_counter = -1\n",
    "        for i, row in enumerate(INDEX_DF.itertuples()):\n",
    "            \n",
    "            # One path for detailed, increment the refseq counter\n",
    "            if detailed:\n",
    "                refseq_counter += 1\n",
    "            \n",
    "            # Otherwise, only increment the counter if it is for a new\n",
    "            # plate\n",
    "            elif row.IndexPlate not in unique_plates_found:\n",
    "                unique_plates_found.add(row.IndexPlate)\n",
    "                refseq_counter += 1\n",
    "        \n",
    "            # Create a new well\n",
    "            well = FakeWell(self.config,\n",
    "                            self.config.refseqs[refseq_counter])\n",
    "            \n",
    "            # Assign information to the well\n",
    "            well.platename = row.IndexPlate\n",
    "            well.wellname = row.Well\n",
    "            well.f_barcode = row.FBC\n",
    "            well.r_barcode = row.RBC\n",
    "            \n",
    "            # Record\n",
    "            self.wells[i] = well\n",
    "            \n",
    "    def build_input(self, saveloc):        \n",
    "        \n",
    "        warnings.warn(\"Add an NNN version of the refseq\")\n",
    "        \n",
    "        # Loop over all wells. Generate reads\n",
    "        forward_reads = []\n",
    "        reverse_reads = []\n",
    "        for well in self.wells:\n",
    "            \n",
    "            # Produce reads if this is not a dud\n",
    "            if not well.dud_well:\n",
    "                f_well_reads, r_well_reads = well.build_all_reads()\n",
    "                forward_reads.extend(f_well_reads)\n",
    "                reverse_reads.extend(r_well_reads)\n",
    "        \n",
    "        # Return the fastq files ready for processing\n",
    "        f_savename = os.path.join(saveloc, f\"testinput_R1_allreads.fastq\")\n",
    "        r_savename = os.path.join(saveloc, f\"testinput_R2_allreads.fastq\")\n",
    "        with open(f_savename, \"w\") as f:\n",
    "            f.write(\"\\n\".join(forward_reads))\n",
    "        with open(r_savename, \"w\") as f:\n",
    "            f.write(\"\\n\".join(reverse_reads))\n",
    "            \n",
    "        # Build reference sequence files\n",
    "        \n",
    "    def build_output_counts(self):\n",
    "        \"\"\"\n",
    "        Builds output files for the different `OutputCounts`\n",
    "        \"\"\"\n",
    "        pass"
   ]
  },
  {
   "cell_type": "code",
   "execution_count": 10,
   "id": "e17e1fd2-8327-4d57-9e1d-f9e4d389d6d5",
   "metadata": {},
   "outputs": [
    {
     "name": "stderr",
     "output_type": "stream",
     "text": [
      "/tmp/ipykernel_18162/616808641.py:30: UserWarning: You need to make sure that the amino acid returned is different from the existing one. Same goes for the nucleotides.\n",
      "  warnings.warn(\"You need to make sure that the amino acid returned is different\"\n",
      "/tmp/ipykernel_18162/2844603749.py:35: UserWarning: Add `murder` to list of functions\n",
      "  warnings.warn(\"Add `murder` to list of functions\")\n"
     ]
    }
   ],
   "source": [
    "test_run = FakeRun()"
   ]
  },
  {
   "cell_type": "code",
   "execution_count": 11,
   "id": "a1e6cd3d-8a03-4659-8ab5-8b33cfaf15a2",
   "metadata": {},
   "outputs": [],
   "source": [
    "test_run.build_input(\"./\")"
   ]
  },
  {
   "cell_type": "markdown",
   "id": "937796fc-381e-4720-a0a7-13f0aa8cdcd8",
   "metadata": {},
   "source": [
    "To do:\n",
    "1. Output refseq\n",
    "2. Fix warnings\n",
    "3. Run a test\n",
    "4. Get output counts"
   ]
  },
  {
   "cell_type": "code",
   "execution_count": null,
   "id": "5252313b-105d-4caf-9edb-80f5a478a22c",
   "metadata": {},
   "outputs": [],
   "source": []
  }
 ],
 "metadata": {
  "kernelspec": {
   "display_name": "Python 3 (ipykernel)",
   "language": "python",
   "name": "python3"
  },
  "language_info": {
   "codemirror_mode": {
    "name": "ipython",
    "version": 3
   },
   "file_extension": ".py",
   "mimetype": "text/x-python",
   "name": "python",
   "nbconvert_exporter": "python",
   "pygments_lexer": "ipython3",
   "version": "3.8.11"
  }
 },
 "nbformat": 4,
 "nbformat_minor": 5
}
