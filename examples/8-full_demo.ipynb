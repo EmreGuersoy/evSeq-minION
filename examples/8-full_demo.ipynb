{
 "cells": [
  {
   "cell_type": "markdown",
   "id": "2e17a636-3dd3-4c08-b7e6-ad89a84e1b13",
   "metadata": {},
   "source": [
    "# Running `evSeq` in a Jupyter Notebook"
   ]
  },
  {
   "cell_type": "code",
   "execution_count": 1,
   "id": "161fe7f9-4ca0-4d10-8fbc-5a56ccd793d3",
   "metadata": {
    "execution": {
     "iopub.execute_input": "2021-08-25T18:40:34.817536Z",
     "iopub.status.busy": "2021-08-25T18:40:34.816772Z",
     "iopub.status.idle": "2021-08-25T18:40:34.820862Z",
     "shell.execute_reply": "2021-08-25T18:40:34.821373Z"
    },
    "jupyter": {
     "source_hidden": true
    },
    "tags": [
     "hide_input"
    ]
   },
   "outputs": [
    {
     "name": "stdout",
     "output_type": "stream",
     "text": [
      "Successfully imported evSeq\n"
     ]
    }
   ],
   "source": [
    "import warnings\n",
    "import os\n",
    "\n",
    "def env_check(silent=False):\n",
    "    \"\"\"Checks first that the user is in an evSeq environment, then\n",
    "    checks that evSeq can be imported (regardless of env). If neither\n",
    "    pf these are accomplised, raises error. Otherwise, warns or prints\n",
    "    status of env/import, unless `silent` is True.\n",
    "    \"\"\"\n",
    "    env_check = True\n",
    "    env = os.environ['CONDA_DEFAULT_ENV']\n",
    "    if 'evSeq' not in env:\n",
    "        env_check = False\n",
    "        if not silent:\n",
    "            warnings.warn('Not in an evSeq environment')\n",
    "    try:\n",
    "        import evSeq\n",
    "        if not silent:\n",
    "            print('Successfully imported evSeq')\n",
    "    except ImportError:\n",
    "        message = 'Could not import evSeq'\n",
    "        if not env_check:\n",
    "            message = f'{message} or activate environment'\n",
    "        raise ImportError(f'{message}.')\n",
    "            \n",
    "env_check()"
   ]
  },
  {
   "cell_type": "markdown",
   "id": "3de16e80-f7f6-4139-a5ce-9d0b4d06ded2",
   "metadata": {},
   "source": [
    "Jupyter Notebooks are excellent tools for reproducible code. If you are a frequent Jupyter Lab user, every step of `evSeq`—from running, to analysis of generated HTML plots, to post-processing—can be done directly in the Jupyter Lab interface.\n",
    "\n",
    "Jupyter Notebooks allow code to be run effectively from the command line interface by using a `!` in front of the line. Furthermore, variables can be defined declaratively in python and then passed into the command within `{}` brackets.\n",
    "\n",
    "The run will take anywhere from a couple of minutes (if you have many processors availble) to upwards of 20–30 minutes, if you have few or use the flag `--jobs 1` (or some other low number) to reduce the multiprocessing jobs.\n",
    "\n",
    "Not all runs will take this long. This run processes 5 plates of high-quality sequencing for multi-site libraries, making it extensive to process in return for excellent results."
   ]
  },
  {
   "cell_type": "code",
   "execution_count": 2,
   "id": "55263111-5f9f-4c42-9748-76531b23b5f9",
   "metadata": {
    "execution": {
     "iopub.execute_input": "2021-08-25T18:40:34.827831Z",
     "iopub.status.busy": "2021-08-25T18:40:34.827245Z",
     "iopub.status.idle": "2021-08-25T18:52:47.606861Z",
     "shell.execute_reply": "2021-08-25T18:52:47.610091Z"
    }
   },
   "outputs": [
    {
     "name": "stdout",
     "output_type": "stream",
     "text": [
      "Loading forward reads...\r\n",
      "Parsing forward reads...: 100%|██████| 403077/403077 [00:21<00:00, 19189.31it/s]\r\n",
      "Loading reverse reads...\r\n",
      "Pairing reverse reads...: 100%|███████| 403077/403077 [00:48<00:00, 8300.91it/s]\r\n",
      "Running read qc...\r\n",
      "Assigning sequences to wells...\r\n",
      "Processing wells...: 100%|████████████████████| 480/480 [10:09<00:00,  1.27s/it]\r\n",
      "Saving outputs to disk...\r\n",
      "High mutational frequency in DI01-C02. You may want to check alignments for accuracy.\r\n"
     ]
    }
   ],
   "source": [
    "# Define the refseq and folder\n",
    "refseq = 'refseqs/DefaultRefSeq.csv'\n",
    "folder = '../data/multisite_runs/'\n",
    "\n",
    "# Pass to evSeq and run\n",
    "!evSeq {refseq} {folder}"
   ]
  },
  {
   "cell_type": "markdown",
   "id": "21da880c-f298-4085-8d2f-7bc01fca547c",
   "metadata": {},
   "source": [
    "You should see a warning of `High mutational frequency in DI01-C02. You may want to check alignments for accuracy.`. This is expected.\n",
    "\n",
    "### Viewing the results\n",
    "You can view the results directly in Jupyter Lab. To view plots, navigate to the output directory in the file explorer on the left:\n",
    "\n",
    "`evSeqOutput/date-time/`\n",
    "\n",
    "and then click on a plot (e.g., `Qualities/QualityPlot.html`). Then, in the top left corner of the new tab that opens click `Trust HTML` to allow Jupyter Lab to render the plot.\n",
    "\n",
    "### Running with other arguments and flags\n",
    "As stated above, the `!` runs code directly as if it were run from the command line, making `evSeq` run here as if it were run from the command line and allowing variables to be passed in within `{}`. Arguments and flags can be passed in as shown in the examples below:"
   ]
  },
  {
   "cell_type": "code",
   "execution_count": 3,
   "id": "2e3d216f-7290-469e-ba96-80d62cd79b9e",
   "metadata": {
    "execution": {
     "iopub.execute_input": "2021-08-25T18:52:47.642019Z",
     "iopub.status.busy": "2021-08-25T18:52:47.640604Z",
     "iopub.status.idle": "2021-08-25T18:52:47.643132Z",
     "shell.execute_reply": "2021-08-25T18:52:47.643661Z"
    }
   },
   "outputs": [],
   "source": [
    "# # Analysis-only run of evSeq, using a flag\n",
    "# !evSeq {refseq} {folder} --analysis_only\n",
    "\n",
    "# # Save the output in the 'data' folder\n",
    "# !evSeq {refseq} {folder} --output ../data/"
   ]
  },
  {
   "cell_type": "markdown",
   "id": "4a184c17-2c2e-4806-a50d-f563968ea1a2",
   "metadata": {},
   "source": [
    "### A standard call for running `evSeq`\n",
    "You could even create formatted lists/dictionaries declaratively in python that are passed to the standard call `!evSeq {refseq} {folder} {flags} {args}`.\n",
    "\n",
    "The cell code below could reasonably used for any evSeq run, updating flags and args where appropriate and uncommenting the last line. If any flags and/or args are used, commenting out or removing any lines between the brackets will run the program with only those remaining (including if none are remaining)."
   ]
  },
  {
   "cell_type": "code",
   "execution_count": 4,
   "id": "86e003df-7727-4a30-84d8-715756b0f8a7",
   "metadata": {
    "execution": {
     "iopub.execute_input": "2021-08-25T18:52:47.654403Z",
     "iopub.status.busy": "2021-08-25T18:52:47.653627Z",
     "iopub.status.idle": "2021-08-25T18:52:47.656259Z",
     "shell.execute_reply": "2021-08-25T18:52:47.656676Z"
    }
   },
   "outputs": [
    {
     "name": "stdout",
     "output_type": "stream",
     "text": [
      "\n",
      "Running evSeq with the following parameters:\n",
      "--------------------------------------------\n",
      "\n",
      "refseq file: refseqs/DefaultRefSeq.csv\n",
      "\n",
      "fastq location: ../data/multisite_runs/\n",
      "\n",
      "Flags: --keep_parsed_fastqs --return_alignments\n",
      "\n",
      "Args + values: --output ../data/ --read_length 150\n",
      "\n"
     ]
    }
   ],
   "source": [
    "# Define the refseq and folder\n",
    "refseq = 'refseqs/DefaultRefSeq.csv'\n",
    "folder = '../data/multisite_runs/'\n",
    "\n",
    "# Set up flags ('--' not needed)\n",
    "flags = [\n",
    "    'keep_parsed_fastqs',\n",
    "    'return_alignments',\n",
    "]\n",
    "\n",
    "# Set up args and their values\n",
    "args = {\n",
    "    'output': '../data/',\n",
    "    'read_length': 150,\n",
    "}\n",
    "\n",
    "# Format\n",
    "flags = ' '.join([f'--{flag}' for flag in flags])\n",
    "args = ' '.join([f'--{arg} {val}' for arg, val in args.items()])\n",
    "\n",
    "# Check on them\n",
    "print(f\"\"\"\n",
    "Running evSeq with the following parameters:\n",
    "--------------------------------------------\n",
    "\n",
    "refseq file: {refseq}\n",
    "\n",
    "fastq location: {folder}\n",
    "\n",
    "Flags: {flags}\n",
    "\n",
    "Args + values: {args}\n",
    "\"\"\")\n",
    "\n",
    "# Run in evSeq\n",
    "# !evSeq {refseq} {folder} {flags} {args}"
   ]
  },
  {
   "cell_type": "markdown",
   "id": "552f8c80-b907-42c5-8366-3b399be3e109",
   "metadata": {
    "tags": []
   },
   "source": [
    "# Comparing to expected `evSeqOutput`"
   ]
  },
  {
   "cell_type": "code",
   "execution_count": 5,
   "id": "2b18b789-f8aa-48cb-877d-bd0e227c64f3",
   "metadata": {
    "execution": {
     "iopub.execute_input": "2021-08-25T18:52:47.660803Z",
     "iopub.status.busy": "2021-08-25T18:52:47.660185Z",
     "iopub.status.idle": "2021-08-25T18:52:48.523097Z",
     "shell.execute_reply": "2021-08-25T18:52:48.523553Z"
    }
   },
   "outputs": [],
   "source": [
    "import glob\n",
    "from evSeq.util import compare_to_expected"
   ]
  },
  {
   "cell_type": "markdown",
   "id": "34451176-827b-4590-b813-70e3be8d2839",
   "metadata": {},
   "source": [
    "The function `compare_to_expected` takes in paths to a folder inside `evSeqOutput` and compares each `OutputCounts` file, expecting them to be identical (allowing rooms for small numerical errors). This passes silently or raises an `AssertionError` after printing out the mismatched file(s) and associated problem(s)."
   ]
  },
  {
   "cell_type": "code",
   "execution_count": 6,
   "id": "97b16e12-9439-469e-83a1-da988e000fac",
   "metadata": {
    "execution": {
     "iopub.execute_input": "2021-08-25T18:52:48.528206Z",
     "iopub.status.busy": "2021-08-25T18:52:48.527595Z",
     "iopub.status.idle": "2021-08-25T18:52:49.921356Z",
     "shell.execute_reply": "2021-08-25T18:52:49.920919Z"
    }
   },
   "outputs": [
    {
     "name": "stdout",
     "output_type": "stream",
     "text": [
      "Comparing expected results to results in \"evSeqOutput/20210825-114038\".\n"
     ]
    }
   ],
   "source": [
    "# Path to expected results\n",
    "expected_path = '../data/multisite_runs/evSeqOutput/expected/'\n",
    "\n",
    "# Get the most recent run from this folder\n",
    "# Adjust this path if necessary\n",
    "recent_path = glob.glob('evSeqOutput/*')[-1]\n",
    "\n",
    "# Compare\n",
    "print(f'Comparing expected results to results in \"{recent_path}\".')\n",
    "compare_to_expected(recent_path, expected_path)"
   ]
  },
  {
   "cell_type": "markdown",
   "id": "8273707e-9765-46b8-a3cf-214889fcbe48",
   "metadata": {},
   "source": [
    "---\n",
    "*Back to the [main page](index.html).*"
   ]
  }
 ],
 "metadata": {
  "kernelspec": {
   "display_name": "Python 3",
   "language": "python",
   "name": "python3"
  },
  "language_info": {
   "codemirror_mode": {
    "name": "ipython",
    "version": 3
   },
   "file_extension": ".py",
   "mimetype": "text/x-python",
   "name": "python",
   "nbconvert_exporter": "python",
   "pygments_lexer": "ipython3",
   "version": "3.8.11"
  }
 },
 "nbformat": 4,
 "nbformat_minor": 5
}
